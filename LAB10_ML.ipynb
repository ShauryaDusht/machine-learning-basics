{
  "nbformat": 4,
  "nbformat_minor": 0,
  "metadata": {
    "colab": {
      "provenance": [],
      "toc_visible": true,
      "authorship_tag": "ABX9TyOyVTO+j/IxiUlP4XDAftaP",
      "include_colab_link": true
    },
    "kernelspec": {
      "name": "python3",
      "display_name": "Python 3"
    },
    "language_info": {
      "name": "python"
    }
  },
  "cells": [
    {
      "cell_type": "markdown",
      "metadata": {
        "id": "view-in-github",
        "colab_type": "text"
      },
      "source": [
        "<a href=\"https://colab.research.google.com/github/ShauryaDusht/machine-learning-basics/blob/main/LAB10_ML.ipynb\" target=\"_parent\"><img src=\"https://colab.research.google.com/assets/colab-badge.svg\" alt=\"Open In Colab\"/></a>"
      ]
    },
    {
      "cell_type": "markdown",
      "source": [
        "# **Reinforcement Learning - Gymnasium library**"
      ],
      "metadata": {
        "id": "2wtuEJDzYu5k"
      }
    },
    {
      "cell_type": "markdown",
      "source": [
        "## **FrozenLake-v1**\n",
        "```\n",
        "All the scripts can only be run on a local machine\n",
        "Colab dont support running these Gymnasium library with enviormnment\n",
        "Though we can make model but can see the enviornment\n",
        "```"
      ],
      "metadata": {
        "id": "cCUNHtSNpor7"
      }
    },
    {
      "cell_type": "markdown",
      "source": [
        "## Brief about"
      ],
      "metadata": {
        "id": "-Ci4RF7bctZq"
      }
    },
    {
      "cell_type": "markdown",
      "source": [
        "\n",
        "**FrozenLake-v1 (from Gymnasium)**\n",
        "\n",
        "**State Space:**\n",
        "Discrete states representing each tile on the lake grid (e.g., 4x4 = 16 states).\n",
        "\n",
        "**Action Space:**\n",
        "Discrete(4) — Move: `Left`, `Down`, `Right`, `Up`.\n",
        "\n",
        "**Transition Dynamics**\n",
        "* Deterministic if is_slippery=False: Agent moves exactly as commanded.\n",
        "* Stochastic if is_slippery=True: Agent may slip to unintended directions.\n",
        "\n",
        "**Reward Function**\n",
        "*   +1 for reaching the goal.\n",
        "*   0 for all other steps (including falling into holes).\n",
        "\n",
        "**Episode Termination Conditions**\n",
        "*   Reaching the goal tile.\n",
        "*   Falling into a hole.\n",
        "\n",
        "**Potential Real-World Applications**\n",
        "*   Navigation in uncertain terrains.\n",
        "*   Basic modeling for mobile robots in dangerous environments (e.g., ice fields or minefields).\n",
        "*   Path planning with obstacles and slippery dynamics.\n"
      ],
      "metadata": {
        "id": "vVz6I9rJcwOj"
      }
    },
    {
      "cell_type": "markdown",
      "source": [
        "## **Installing Libraries and dependencies**"
      ],
      "metadata": {
        "id": "CzMu70Z2eAzn"
      }
    },
    {
      "cell_type": "code",
      "source": [
        "%%capture\n",
        "!pip install swig\n",
        "!pip install gymnasium[all]"
      ],
      "metadata": {
        "id": "UQjuaCcRaA84"
      },
      "execution_count": null,
      "outputs": []
    },
    {
      "cell_type": "code",
      "source": [
        "!pip install gymnasium['FrozenLake-v1']"
      ],
      "metadata": {
        "id": "i4ln1nWjoxI0"
      },
      "execution_count": null,
      "outputs": []
    },
    {
      "cell_type": "code",
      "source": [
        "gym.envs.registry.keys()"
      ],
      "metadata": {
        "colab": {
          "base_uri": "https://localhost:8080/"
        },
        "id": "_inZVrQubJ7x",
        "outputId": "06bb1cd6-ba12-4492-db31-751e2618b924"
      },
      "execution_count": null,
      "outputs": [
        {
          "output_type": "execute_result",
          "data": {
            "text/plain": [
              "dict_keys(['CartPole-v0', 'CartPole-v1', 'MountainCar-v0', 'MountainCarContinuous-v0', 'Pendulum-v1', 'Acrobot-v1', 'phys2d/CartPole-v0', 'phys2d/CartPole-v1', 'phys2d/Pendulum-v0', 'LunarLander-v3', 'LunarLanderContinuous-v3', 'BipedalWalker-v3', 'BipedalWalkerHardcore-v3', 'CarRacing-v3', 'Blackjack-v1', 'FrozenLake-v1', 'FrozenLake8x8-v1', 'CliffWalking-v0', 'Taxi-v3', 'tabular/Blackjack-v0', 'tabular/CliffWalking-v0', 'Reacher-v2', 'Reacher-v4', 'Reacher-v5', 'Pusher-v2', 'Pusher-v4', 'Pusher-v5', 'InvertedPendulum-v2', 'InvertedPendulum-v4', 'InvertedPendulum-v5', 'InvertedDoublePendulum-v2', 'InvertedDoublePendulum-v4', 'InvertedDoublePendulum-v5', 'HalfCheetah-v2', 'HalfCheetah-v3', 'HalfCheetah-v4', 'HalfCheetah-v5', 'Hopper-v2', 'Hopper-v3', 'Hopper-v4', 'Hopper-v5', 'Swimmer-v2', 'Swimmer-v3', 'Swimmer-v4', 'Swimmer-v5', 'Walker2d-v2', 'Walker2d-v3', 'Walker2d-v4', 'Walker2d-v5', 'Ant-v2', 'Ant-v3', 'Ant-v4', 'Ant-v5', 'Humanoid-v2', 'Humanoid-v3', 'Humanoid-v4', 'Humanoid-v5', 'HumanoidStandup-v2', 'HumanoidStandup-v4', 'HumanoidStandup-v5', 'GymV21Environment-v0', 'GymV26Environment-v0'])"
            ]
          },
          "metadata": {},
          "execution_count": 33
        }
      ]
    },
    {
      "cell_type": "markdown",
      "source": [
        "## **Training**\n",
        "```\n",
        "This script is for fast execution\n",
        "Q-model is made from this at earliest which can be used to run the RL trained agent\n",
        "The accuracy vs episode is plotted\n",
        "```"
      ],
      "metadata": {
        "id": "Fa6ltwMLZ8lZ"
      }
    },
    {
      "cell_type": "code",
      "source": [
        "import gymnasium as gym\n",
        "import numpy as np\n",
        "import matplotlib.pyplot as plt\n",
        "import pickle\n",
        "\n",
        "def run(num_episodes, render=False):\n",
        "    env = gym.make('FrozenLake-v1', map_name='4x4', is_slippery=False, render_mode='human' if render else None)\n",
        "\n",
        "    q = np.zeros([env.observation_space.n, env.action_space.n])\n",
        "    learning_rate = 0.9\n",
        "    discount_factor = 0.9\n",
        "    epsilon = 1\n",
        "    epsilon_decay_rate = 0.0001\n",
        "\n",
        "    rewards_per_episode = np.zeros(num_episodes)\n",
        "\n",
        "    for i in range(num_episodes):\n",
        "        state = env.reset()[0]\n",
        "        terminated = False\n",
        "        truncated = False\n",
        "\n",
        "        while not terminated and not truncated:\n",
        "            if np.random.rand() < epsilon:\n",
        "                action = env.action_space.sample()\n",
        "            else:\n",
        "                action = np.argmax(q[state, :])\n",
        "\n",
        "            new_state, reward, terminated, truncated, info = env.step(action)\n",
        "            q[state, action] = q[state, action] + learning_rate * (\n",
        "                reward + discount_factor * np.max(q[new_state, :]) - q[state, action]\n",
        "            )\n",
        "            state = new_state\n",
        "            if render:\n",
        "                env.render()\n",
        "        epsilon = max(0, epsilon - epsilon_decay_rate)\n",
        "        if epsilon == 0:\n",
        "            learning_rate = 0.00001\n",
        "        if reward == 1:\n",
        "            rewards_per_episode[i] = 1\n",
        "\n",
        "    env.close()\n",
        "\n",
        "    sum_rewards = np.zeros(num_episodes)\n",
        "    for t in range(num_episodes):\n",
        "        sum_rewards[t] = np.sum(rewards_per_episode[max(0, t-100):(t+1)])\n",
        "    plt.plot(sum_rewards)\n",
        "    plt.savefig('frozen_lake.png')\n",
        "\n",
        "    with open('frozen_lake.pkl', 'wb') as f:\n",
        "        pickle.dump(q, f)\n",
        "\n",
        "if __name__ == '__main__':\n",
        "    run(11000, render=False)"
      ],
      "metadata": {
        "colab": {
          "base_uri": "https://localhost:8080/"
        },
        "id": "L2vBV1-AcoB-",
        "outputId": "b601fd04-efca-4e2c-dea1-41f455bdf142"
      },
      "execution_count": null,
      "outputs": [
        {
          "output_type": "display_data",
          "data": {
            "text/plain": [
              "<Figure size 640x480 with 1 Axes>"
            ],
            "image/png": "[encoded data removed]"
          },
          "metadata": {}
        }
      ]
    },
    {
      "cell_type": "markdown",
      "source": [
        "## **Loss chart training**\n",
        "```\n",
        "In this script we can see the accuracy vs episode plot\n",
        "The plot is slow but fast enough to be viewd in a couple of minutes\n",
        "No enviornment is opened during this script\n",
        "```"
      ],
      "metadata": {
        "id": "afFGUA2E5G5v"
      }
    },
    {
      "cell_type": "code",
      "source": [
        "import gymnasium as gym\n",
        "import numpy as np\n",
        "import matplotlib.pyplot as plt\n",
        "import pickle\n",
        "\n",
        "def run(num_episodes, render=False):\n",
        "    env = gym.make('FrozenLake-v1', map_name='4x4', is_slippery=False, render_mode='human' if render else None)\n",
        "\n",
        "    q = np.zeros([env.observation_space.n, env.action_space.n])\n",
        "    learning_rate = 0.9\n",
        "    discount_factor = 0.9\n",
        "    epsilon = 1\n",
        "    epsilon_decay_rate = 0.001\n",
        "\n",
        "    rewards_per_episode = np.zeros(num_episodes)\n",
        "\n",
        "    # Set up the plot for real-time feedback\n",
        "    plt.ion()  # Turn on interactive mode\n",
        "    fig, ax = plt.subplots()\n",
        "    ax.set_xlabel('Episode')\n",
        "    ax.set_ylabel('Sum of Rewards (last 100 episodes)')\n",
        "    ax.set_title('Training Progress')\n",
        "    line, = ax.plot([], [], 'r-')  # Initialize an empty line plot\n",
        "    ax.set_xlim(0, num_episodes)\n",
        "    ax.set_ylim(0, 100)  # Set the y-limit based on the reward range\n",
        "\n",
        "    for i in range(num_episodes):\n",
        "        state = env.reset()[0]\n",
        "        terminated = False\n",
        "        truncated = False\n",
        "        total_reward = 0\n",
        "\n",
        "        while not terminated and not truncated:\n",
        "            if np.random.rand() < epsilon:\n",
        "                action = env.action_space.sample()\n",
        "            else:\n",
        "                action = np.argmax(q[state, :])\n",
        "\n",
        "            new_state, reward, terminated, truncated, info = env.step(action)\n",
        "            total_reward += reward\n",
        "\n",
        "            q[state, action] = q[state, action] + learning_rate * (\n",
        "                reward + discount_factor * np.max(q[new_state, :]) - q[state, action]\n",
        "            )\n",
        "            state = new_state\n",
        "\n",
        "            if render:\n",
        "                env.render()\n",
        "\n",
        "        rewards_per_episode[i] = total_reward\n",
        "        epsilon = max(0, epsilon - epsilon_decay_rate)\n",
        "\n",
        "        if epsilon == 0:\n",
        "            learning_rate = 0.00001\n",
        "\n",
        "        if (i+1) % 1000 == 0:  # Print progress every 1000 episodes\n",
        "            print(f\"Episode {i+1}/{num_episodes}, Epsilon: {epsilon:.4f}, Total Reward: {total_reward}\")\n",
        "\n",
        "        # Update plot with the sum of rewards over the last 100 episodes\n",
        "        sum_rewards = np.zeros(i + 1)\n",
        "        for t in range(i + 1):\n",
        "            sum_rewards[t] = np.sum(rewards_per_episode[max(0, t-100):(t+1)])\n",
        "\n",
        "        line.set_ydata(sum_rewards)\n",
        "        line.set_xdata(np.arange(i + 1))\n",
        "        plt.pause(0.01)  # Pause to update the plot\n",
        "\n",
        "    plt.ioff()  # Turn off interactive mode\n",
        "    plt.show()\n",
        "\n",
        "    env.close()\n",
        "\n",
        "    # Save the Q-table to a file\n",
        "    with open('frozen_lake.pkl', 'wb') as f:\n",
        "        pickle.dump(q, f)\n",
        "\n",
        "if __name__ == '__main__':\n",
        "    run(11000, render=False)"
      ],
      "metadata": {
        "id": "RI-3Bb0z5Ggg"
      },
      "execution_count": null,
      "outputs": []
    },
    {
      "cell_type": "markdown",
      "source": [
        "## **View Game**\n",
        "```\n",
        "This script is used to see the environment and actions performed\n",
        "It takes a lot of time to train so we use above methods for training\n",
        "```"
      ],
      "metadata": {
        "id": "B_JCxucT46pg"
      }
    },
    {
      "cell_type": "code",
      "source": [
        "import gymnasium as gym\n",
        "import numpy as np\n",
        "import matplotlib.pyplot as plt\n",
        "import pickle\n",
        "\n",
        "def run(num_episodes, render=False):\n",
        "    env = gym.make('FrozenLake-v1', map_name='4x4', is_slippery=False, render_mode='human' if render else None)\n",
        "\n",
        "    q = np.zeros([env.observation_space.n, env.action_space.n])\n",
        "    learning_rate = 0.9\n",
        "    discount_factor = 0.9\n",
        "    epsilon = 1\n",
        "    epsilon_decay_rate = 0.1\n",
        "\n",
        "    rewards_per_episode = np.zeros(num_episodes)\n",
        "\n",
        "    for i in range(num_episodes):\n",
        "        state = env.reset()[0]\n",
        "        terminated = False\n",
        "        truncated = False\n",
        "        total_reward = 0\n",
        "\n",
        "        while not terminated and not truncated:\n",
        "            if np.random.rand() < epsilon:\n",
        "                action = env.action_space.sample()\n",
        "            else:\n",
        "                action = np.argmax(q[state, :])\n",
        "\n",
        "            new_state, reward, terminated, truncated, info = env.step(action)\n",
        "            total_reward += reward\n",
        "\n",
        "            q[state, action] = q[state, action] + learning_rate * (\n",
        "                reward + discount_factor * np.max(q[new_state, :]) - q[state, action]\n",
        "            )\n",
        "            state = new_state\n",
        "\n",
        "            if render:\n",
        "                env.render()\n",
        "\n",
        "        rewards_per_episode[i] = total_reward\n",
        "        epsilon = max(0, epsilon - epsilon_decay_rate)\n",
        "\n",
        "        if epsilon == 0:\n",
        "            learning_rate = 0.00001\n",
        "\n",
        "        if (i + 1) % 1000 == 0:\n",
        "            print(f\"Episode {i+1}/{num_episodes}, Epsilon: {epsilon:.4f}, Total Reward: {total_reward}\")\n",
        "\n",
        "    env.close()\n",
        "\n",
        "    with open('frozen_lake.pkl', 'wb') as f:\n",
        "        pickle.dump(q, f)\n",
        "\n",
        "if __name__ == '__main__':\n",
        "    run(11000, render=True)\n"
      ],
      "metadata": {
        "id": "dj42O0fx45lw"
      },
      "execution_count": null,
      "outputs": []
    },
    {
      "cell_type": "markdown",
      "source": [
        "## **Viewing Trained Model**\n",
        "```\n",
        "This script is used to run the trained agent in the environment\n",
        "It can be run after completion of any of the above 3 scripts as they generate Q-table values.\n",
        "```"
      ],
      "metadata": {
        "id": "xkTTjycalZLC"
      }
    },
    {
      "cell_type": "code",
      "source": [
        "import pickle\n",
        "\n",
        "def run_simulation(model_path, render=True):\n",
        "    with open(model_path, 'rb') as f:\n",
        "        q = pickle.load(f)\n",
        "\n",
        "    env = gym.make('FrozenLake-v1', map_name='4x4', is_slippery=False, render_mode='human' if render else None)\n",
        "\n",
        "    state = env.reset()[0]\n",
        "    terminated = False\n",
        "    truncated = False\n",
        "\n",
        "    while not terminated and not truncated:\n",
        "        action = np.argmax(q[state, :])\n",
        "\n",
        "        new_state, reward, terminated, truncated, info = env.step(action)\n",
        "\n",
        "        state = new_state\n",
        "\n",
        "        if render:\n",
        "            env.render()\n",
        "\n",
        "    env.close()\n",
        "\n",
        "if __name__ == '__main__':\n",
        "    run_simulation('frozen_lake.pkl', render=True)"
      ],
      "metadata": {
        "id": "u9-x7GCqki5s"
      },
      "execution_count": null,
      "outputs": []
    },
    {
      "cell_type": "code",
      "source": [],
      "metadata": {
        "id": "ybRg4TqrkXh8"
      },
      "execution_count": null,
      "outputs": []
    }
  ]
}
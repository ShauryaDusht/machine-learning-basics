{
  "nbformat": 4,
  "nbformat_minor": 0,
  "metadata": {
    "colab": {
      "provenance": [],
      "toc_visible": true,
      "authorship_tag": "ABX9TyNKh5eNJBOnIvn5Ra1D9RkI",
      "include_colab_link": true
    },
    "kernelspec": {
      "name": "python3",
      "display_name": "Python 3"
    },
    "language_info": {
      "name": "python"
    }
  },
  "cells": [
    {
      "cell_type": "markdown",
      "metadata": {
        "id": "view-in-github",
        "colab_type": "text"
      },
      "source": [
        "<a href=\"https://colab.research.google.com/github/ShauryaDusht/machine-learning-basics/blob/main/NumpyPandasMatplotlibRequests.ipynb\" target=\"_parent\"><img src=\"https://colab.research.google.com/assets/colab-badge.svg\" alt=\"Open In Colab\"/></a>"
      ]
    },
    {
      "cell_type": "markdown",
      "source": [
        "# **Assignment 2 - Shaurya Bisht UI22EC67**"
      ],
      "metadata": {
        "id": "s5LV_Kk_Q7Pq"
      }
    },
    {
      "cell_type": "markdown",
      "source": [
        "## **Part 1 : Numpy**"
      ],
      "metadata": {
        "id": "q4yJGRjNRF_s"
      }
    },
    {
      "cell_type": "code",
      "source": [
        "import numpy as np"
      ],
      "metadata": {
        "id": "HRXlPobfRSbd"
      },
      "execution_count": null,
      "outputs": []
    },
    {
      "cell_type": "markdown",
      "source": [
        "### Create and Manipulate Arrays"
      ],
      "metadata": {
        "id": "OdxgLn6HRJQb"
      }
    },
    {
      "cell_type": "code",
      "source": [
        "# 1. Create a 1D array of integers from 1 to 10\n",
        "\n",
        "array = np.arange(1,11)\n",
        "print(array)"
      ],
      "metadata": {
        "colab": {
          "base_uri": "https://localhost:8080/"
        },
        "id": "PDcvfAPsROi9",
        "outputId": "4be298c4-d7d5-486e-a5cc-5b420af7e973"
      },
      "execution_count": null,
      "outputs": [
        {
          "output_type": "stream",
          "name": "stdout",
          "text": [
            "[ 1  2  3  4  5  6  7  8  9 10]\n"
          ]
        }
      ]
    },
    {
      "cell_type": "code",
      "source": [
        "# 2. Reshape it into a 2x5 matrix\n",
        "\n",
        "array = array.reshape(2,5)\n",
        "print(array)"
      ],
      "metadata": {
        "colab": {
          "base_uri": "https://localhost:8080/"
        },
        "id": "8sxz5OdyR4SS",
        "outputId": "68bd6fb2-48c4-48da-8eb1-96476f5d4d29"
      },
      "execution_count": null,
      "outputs": [
        {
          "output_type": "stream",
          "name": "stdout",
          "text": [
            "[[ 1  2  3  4  5]\n",
            " [ 6  7  8  9 10]]\n"
          ]
        }
      ]
    },
    {
      "cell_type": "code",
      "source": [
        "# 3. Find the mean, median, and standard deviation of the array\n",
        "\n",
        "mean = np.mean(array)\n",
        "median = np.median(array)\n",
        "std_dev = np.std(array)\n",
        "\n",
        "print(f'Mean = {mean}, Median = {median}, Standard Deviation = {std_dev}')"
      ],
      "metadata": {
        "colab": {
          "base_uri": "https://localhost:8080/"
        },
        "id": "pkF2IWFAR6_S",
        "outputId": "84dfd083-a336-4d8e-dea6-81b6a0b90489"
      },
      "execution_count": null,
      "outputs": [
        {
          "output_type": "stream",
          "name": "stdout",
          "text": [
            "Mean = 5.5, Median = 5.5, Standard Deviation = 2.8722813232690143\n"
          ]
        }
      ]
    },
    {
      "cell_type": "markdown",
      "source": [
        "### Mathematical Operations"
      ],
      "metadata": {
        "id": "Ic1TjXTsSJ40"
      }
    },
    {
      "cell_type": "code",
      "source": [
        "# 4. Create two 3x3 matrices filled with random integers between 1 and 10\n",
        "\n",
        "matrix1 = np.random.randint(1, 11, (3, 3))\n",
        "matrix2 = np.random.randint(1, 11, (3, 3))\n",
        "\n",
        "print(\"Matrix 1:\\n\", matrix1)\n",
        "print(\"Matrix 2:\\n\", matrix2)"
      ],
      "metadata": {
        "colab": {
          "base_uri": "https://localhost:8080/"
        },
        "id": "0YcfY7K6SQB2",
        "outputId": "860dddaa-0bb6-43f1-944b-d5df12d9dab9"
      },
      "execution_count": null,
      "outputs": [
        {
          "output_type": "stream",
          "name": "stdout",
          "text": [
            "Matrix 1:\n",
            " [[10  1 10]\n",
            " [ 1  8  9]\n",
            " [ 3  4  2]]\n",
            "Matrix 2:\n",
            " [[ 9  4  3]\n",
            " [10 10  8]\n",
            " [10  6 10]]\n"
          ]
        }
      ]
    },
    {
      "cell_type": "code",
      "source": [
        "# 5. Perform element-wise addition, subtraction, multiplication, and division\n",
        "addition = matrix1 + matrix2\n",
        "subtraction = matrix1 - matrix2\n",
        "multiplication = matrix1 * matrix2\n",
        "division = matrix1 / matrix2\n",
        "\n",
        "print(\"Element-wise Addition:\\n\", addition)\n",
        "print(\"Element-wise Subtraction:\\n\", subtraction)\n",
        "print(\"Element-wise Multiplication:\\n\", multiplication)\n",
        "print(\"Element-wise Division:\\n\", division)"
      ],
      "metadata": {
        "colab": {
          "base_uri": "https://localhost:8080/"
        },
        "id": "Eh_UiRECSZqo",
        "outputId": "0f8817c4-7e1c-462b-a3ee-f5512cd39d21"
      },
      "execution_count": null,
      "outputs": [
        {
          "output_type": "stream",
          "name": "stdout",
          "text": [
            "Element-wise Addition:\n",
            " [[19  5 13]\n",
            " [11 18 17]\n",
            " [13 10 12]]\n",
            "Element-wise Subtraction:\n",
            " [[ 1 -3  7]\n",
            " [-9 -2  1]\n",
            " [-7 -2 -8]]\n",
            "Element-wise Multiplication:\n",
            " [[90  4 30]\n",
            " [10 80 72]\n",
            " [30 24 20]]\n",
            "Element-wise Division:\n",
            " [[1.11111111 0.25       3.33333333]\n",
            " [0.1        0.8        1.125     ]\n",
            " [0.3        0.66666667 0.2       ]]\n"
          ]
        }
      ]
    },
    {
      "cell_type": "markdown",
      "source": [
        "### Slicing and Indexing"
      ],
      "metadata": {
        "id": "pryNOqIbSj--"
      }
    },
    {
      "cell_type": "code",
      "source": [
        "# 6. Extract the second row of one matrix\n",
        "\n",
        "second_row = matrix1[1, :]\n",
        "print(\"Second Row of Matrix 1:\", second_row)"
      ],
      "metadata": {
        "colab": {
          "base_uri": "https://localhost:8080/"
        },
        "id": "HtPKtK5rSn_u",
        "outputId": "3898d41a-8dd9-44c1-fe96-ed8bdb6e972c"
      },
      "execution_count": null,
      "outputs": [
        {
          "output_type": "stream",
          "name": "stdout",
          "text": [
            "Second Row of Matrix 1: [1 8 9]\n"
          ]
        }
      ]
    },
    {
      "cell_type": "code",
      "source": [
        "# 7. Replace all elements greater than 5 with -1 in the same matrix\n",
        "\n",
        "matrix1[matrix1 > 5] = -1\n",
        "print(\"Matrix 1 after replacing elements > 5 with -1:\\n\", matrix1)"
      ],
      "metadata": {
        "colab": {
          "base_uri": "https://localhost:8080/"
        },
        "id": "Id5F_XfKSvtF",
        "outputId": "6f0b9305-08ad-45a3-a330-4203cddfaf26"
      },
      "execution_count": null,
      "outputs": [
        {
          "output_type": "stream",
          "name": "stdout",
          "text": [
            "Matrix 1 after replacing elements > 5 with -1:\n",
            " [[-1  1 -1]\n",
            " [ 1 -1 -1]\n",
            " [ 3  4  2]]\n"
          ]
        }
      ]
    },
    {
      "cell_type": "markdown",
      "source": [
        "## **Part 2 : Pandas**"
      ],
      "metadata": {
        "id": "pdXuNzqiS8xN"
      }
    },
    {
      "cell_type": "code",
      "source": [
        "import pandas as pd"
      ],
      "metadata": {
        "id": "o3Ds1YF1TByc"
      },
      "execution_count": null,
      "outputs": []
    },
    {
      "cell_type": "markdown",
      "source": [
        "### Creating and Analysing Data Frames"
      ],
      "metadata": {
        "id": "XWusyTTDTMS0"
      }
    },
    {
      "cell_type": "code",
      "source": [
        "# 8. Create a Data-Frame with the following columns\n",
        "\n",
        "data = {\n",
        "    'Name': ['Ved', 'Harsh', 'Chetan', 'Vinay'],\n",
        "    'Age': [21, 22, 20, 23],\n",
        "    'Score': [85, 90, 88, 78]\n",
        "}\n",
        "\n",
        "df = pd.DataFrame(data)\n",
        "print(\"DataFrame:\\n\", df)"
      ],
      "metadata": {
        "colab": {
          "base_uri": "https://localhost:8080/"
        },
        "id": "drw9M3frTSat",
        "outputId": "620d1ea2-de89-456b-d0f6-511535a654de"
      },
      "execution_count": null,
      "outputs": [
        {
          "output_type": "stream",
          "name": "stdout",
          "text": [
            "DataFrame:\n",
            "      Name  Age  Score\n",
            "0     Ved   21     85\n",
            "1   Harsh   22     90\n",
            "2  Chetan   20     88\n",
            "3   Vinay   23     78\n"
          ]
        }
      ]
    },
    {
      "cell_type": "code",
      "source": [
        "# 9.  Add a new column, Grade, based on the Score (e.g., A for Score >= 85, B for 70 <= Score < 85).\n",
        "\n",
        "# df['Grade'] = df['Score'].apply(lambda x: 'A' if x >= 85 else 'B' if 70 <= x < 85 else 'C')\n",
        "def filter(score):\n",
        "    if score >= 85:\n",
        "        return 'A'\n",
        "    elif 70 <= score < 85:\n",
        "        return 'B'\n",
        "    return 'C'\n",
        "\n",
        "# Apply the function to create the 'Grade' column\n",
        "df['Grade'] = df['Score'].apply(filter)\n",
        "print(\"\\nDataFrame after adding new column:\\n\", df)"
      ],
      "metadata": {
        "colab": {
          "base_uri": "https://localhost:8080/"
        },
        "id": "F1V7EjgdTZN6",
        "outputId": "9936104b-6bf0-4d15-b0ed-7563283ee18c"
      },
      "execution_count": null,
      "outputs": [
        {
          "output_type": "stream",
          "name": "stdout",
          "text": [
            "\n",
            "DataFrame after adding new column:\n",
            "      Name  Age  Score Grade\n",
            "0     Ved   21     85     A\n",
            "1   Harsh   22     90     A\n",
            "2  Chetan   20     88     A\n",
            "3   Vinay   23     78     B\n"
          ]
        }
      ]
    },
    {
      "cell_type": "markdown",
      "source": [
        "### Filtering and Aggregation"
      ],
      "metadata": {
        "id": "y2wxcjOtTq0B"
      }
    },
    {
      "cell_type": "code",
      "source": [
        "# 10. Filter students with Score greater than 85.\n",
        "\n",
        "filtered_df = df[df['Score'] > 85]\n",
        "print(filtered_df)"
      ],
      "metadata": {
        "colab": {
          "base_uri": "https://localhost:8080/"
        },
        "id": "uWwgu3pSTzDi",
        "outputId": "10f36aa0-918b-48b1-c0f3-611c41574fba"
      },
      "execution_count": null,
      "outputs": [
        {
          "output_type": "stream",
          "name": "stdout",
          "text": [
            "     Name  Age  Score Grade\n",
            "1   Harsh   22     90     A\n",
            "2  Chetan   20     88     A\n"
          ]
        }
      ]
    },
    {
      "cell_type": "code",
      "source": [
        "# 11. Calculate the average Age and Score of the students.\n",
        "\n",
        "average_age = df['Age'].mean()\n",
        "average_score = df['Score'].mean()\n",
        "\n",
        "print(f\"\\nAverage Age: {average_age}\")\n",
        "print(f\"Average Score: {average_score}\")"
      ],
      "metadata": {
        "colab": {
          "base_uri": "https://localhost:8080/"
        },
        "id": "DICkqE9CT1aD",
        "outputId": "66b8b5d6-bb77-4961-ee99-f594a29402d9"
      },
      "execution_count": null,
      "outputs": [
        {
          "output_type": "stream",
          "name": "stdout",
          "text": [
            "\n",
            "Average Age: 21.5\n",
            "Average Score: 85.25\n"
          ]
        }
      ]
    },
    {
      "cell_type": "markdown",
      "source": [
        "### CSV File Handling"
      ],
      "metadata": {
        "id": "rsssmQAyVlqk"
      }
    },
    {
      "cell_type": "code",
      "source": [
        "# 12. Save the Data-Frame to a CSV file named students.csv\n",
        "\n",
        "df.to_csv('students.csv', index=False)"
      ],
      "metadata": {
        "id": "yjT8dvN5Voad"
      },
      "execution_count": null,
      "outputs": []
    },
    {
      "cell_type": "code",
      "source": [
        "# 13. Load the file back into a new Data-Frame and display its content.\n",
        "new_df = pd.read_csv('students.csv')\n",
        "print(new_df)"
      ],
      "metadata": {
        "colab": {
          "base_uri": "https://localhost:8080/"
        },
        "id": "7OAmryLOVsu0",
        "outputId": "2f59ec6f-cda7-4973-db0e-fd9b472c8029"
      },
      "execution_count": null,
      "outputs": [
        {
          "output_type": "stream",
          "name": "stdout",
          "text": [
            "     Name  Age  Score Grade\n",
            "0     Ved   21     85     A\n",
            "1   Harsh   22     90     A\n",
            "2  Chetan   20     88     A\n",
            "3   Vinay   23     78     B\n"
          ]
        }
      ]
    },
    {
      "cell_type": "markdown",
      "source": [
        "## **Part 3: Matplotlib**"
      ],
      "metadata": {
        "id": "aDiap006WDOc"
      }
    },
    {
      "cell_type": "code",
      "source": [
        "import matplotlib.pyplot as plt"
      ],
      "metadata": {
        "id": "84QtpxYtWVFS"
      },
      "execution_count": null,
      "outputs": []
    },
    {
      "cell_type": "markdown",
      "source": [
        "### Plotting Basics"
      ],
      "metadata": {
        "id": "A-djNPxlWTny"
      }
    },
    {
      "cell_type": "code",
      "source": [
        "# 14. Plot a line graph for y = x^2 for x values ranging from -10 to 10.\n",
        "\n",
        "x = np.linspace(-10, 10, 400)\n",
        "y = x**2\n",
        "\n",
        "plt.plot(x, y)\n",
        "plt.show()"
      ],
      "metadata": {
        "colab": {
          "base_uri": "https://localhost:8080/",
          "height": 430
        },
        "id": "fh8Gtk5ZWcFI",
        "outputId": "e1a492cf-8ebc-4936-e7b5-e2b38559a6a9"
      },
      "execution_count": null,
      "outputs": [
        {
          "output_type": "display_data",
          "data": {
            "text/plain": [
              "<Figure size 640x480 with 1 Axes>"
            ],
            "image/png": "[encoded data removed]"
          },
          "metadata": {}
        }
      ]
    },
    {
      "cell_type": "code",
      "source": [
        "# 15. Add a title, labels for the axes, and a legend.\n",
        "\n",
        "plt.plot(x, y, label='y = x^2')\n",
        "plt.title('Plot of y = x^2')\n",
        "plt.xlabel('x');plt.ylabel('y')\n",
        "\n",
        "plt.legend()\n",
        "plt.show()"
      ],
      "metadata": {
        "colab": {
          "base_uri": "https://localhost:8080/",
          "height": 472
        },
        "id": "8ke4eqxEWvJO",
        "outputId": "32025aab-5ba9-4b3f-97ae-282ab5aad5a6"
      },
      "execution_count": null,
      "outputs": [
        {
          "output_type": "display_data",
          "data": {
            "text/plain": [
              "<Figure size 640x480 with 1 Axes>"
            ],
            "image/png": "[encoded data removed]"
          },
          "metadata": {}
        }
      ]
    },
    {
      "cell_type": "markdown",
      "source": [
        "### Bar Chart"
      ],
      "metadata": {
        "id": "Rk6Dl8qZWyRu"
      }
    },
    {
      "cell_type": "code",
      "source": [
        "# 16. Create a bar chart to visualize the Name vs. Score data from the Pandas DataFrame\n",
        "\n",
        "plt.bar(df['Name'], df['Score'])\n",
        "\n",
        "plt.title('Scores of Individuals')\n",
        "plt.xlabel('Name')\n",
        "plt.ylabel('Score')\n",
        "\n",
        "plt.show()"
      ],
      "metadata": {
        "colab": {
          "base_uri": "https://localhost:8080/",
          "height": 472
        },
        "id": "WGnFqIElWzut",
        "outputId": "13fa9490-905a-4e88-dc12-2739c6ec48f2"
      },
      "execution_count": null,
      "outputs": [
        {
          "output_type": "display_data",
          "data": {
            "text/plain": [
              "<Figure size 640x480 with 1 Axes>"
            ],
            "image/png": "[encoded data removed]"
          },
          "metadata": {}
        }
      ]
    },
    {
      "cell_type": "markdown",
      "source": [
        " ### Pie Chart"
      ],
      "metadata": {
        "id": "P109HZ35W2mi"
      }
    },
    {
      "cell_type": "code",
      "source": [
        "# 17. Create a pie chart showing the distribution of Grade from the Data-Frame.\n",
        "df = pd.DataFrame(data)\n",
        "df['Grade'] = df['Score'].apply(lambda x: 'A' if x >= 85 else 'B' if 70 <= x < 85 else 'C')\n",
        "\n",
        "grade_distribution = df['Grade'].value_counts()\n",
        "\n",
        "plt.pie(grade_distribution, labels=grade_distribution.index, autopct='%1.1f%%', startangle=90)\n",
        "plt.title('Grade Distribution')\n",
        "plt.show()"
      ],
      "metadata": {
        "colab": {
          "base_uri": "https://localhost:8080/",
          "height": 428
        },
        "id": "jbyi9AZKW4HS",
        "outputId": "a1babd71-aaa7-478e-9d7b-2845edf05626"
      },
      "execution_count": null,
      "outputs": [
        {
          "output_type": "display_data",
          "data": {
            "text/plain": [
              "<Figure size 640x480 with 1 Axes>"
            ],
            "image/png": "[encoded data removed]"
          },
          "metadata": {}
        }
      ]
    },
    {
      "cell_type": "markdown",
      "source": [
        "## **Part 4: Requests Library**"
      ],
      "metadata": {
        "id": "pJeG74BaXa6-"
      }
    },
    {
      "cell_type": "code",
      "source": [
        "import requests"
      ],
      "metadata": {
        "id": "sRmXx6WXYVLl"
      },
      "execution_count": null,
      "outputs": []
    },
    {
      "cell_type": "markdown",
      "source": [
        "### Making API Requests"
      ],
      "metadata": {
        "id": "awF-uwQJX5UZ"
      }
    },
    {
      "cell_type": "code",
      "source": [
        "# 18 . Use the requests library to fetch data from https://jsonplaceholder.typicode.com/posts\n",
        "# 19: Print the title of the first 5 posts\n",
        "# 20: Count how many posts have userId equal to 1\n",
        "\n",
        "import requests\n",
        "\n",
        "url = \"https://jsonplaceholder.typicode.com/posts\"\n",
        "# 18\n",
        "response = requests.get(url)\n",
        "\n",
        "if response.status_code == 200:\n",
        "    posts = response.json()\n",
        "\n",
        "    # 19\n",
        "    print(\"Titles of the first 5 posts:\")\n",
        "    for post in posts[:5]:\n",
        "        print(post['title'])\n",
        "\n",
        "    # 20\n",
        "    userId_1_count = sum(1 for post in posts if post['userId'] == 1)\n",
        "    print(f\"\\nNumber of posts with userId equal to 1: {userId_1_count}\")\n",
        "else:\n",
        "    print(\"Failed to retrieve data\")"
      ],
      "metadata": {
        "colab": {
          "base_uri": "https://localhost:8080/"
        },
        "id": "ct1XNiGlX8JZ",
        "outputId": "27fe3212-cd85-4d20-9893-2a679c0a9082"
      },
      "execution_count": null,
      "outputs": [
        {
          "output_type": "stream",
          "name": "stdout",
          "text": [
            "Titles of the first 5 posts:\n",
            "sunt aut facere repellat provident occaecati excepturi optio reprehenderit\n",
            "qui est esse\n",
            "ea molestias quasi exercitationem repellat qui ipsa sit aut\n",
            "eum et est occaecati\n",
            "nesciunt quas odio\n",
            "\n",
            "Number of posts with userId equal to 1: 10\n"
          ]
        }
      ]
    }
  ]
}
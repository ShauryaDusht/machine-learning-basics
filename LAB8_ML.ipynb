{
  "nbformat": 4,
  "nbformat_minor": 0,
  "metadata": {
    "colab": {
      "provenance": [],
      "authorship_tag": "ABX9TyN346p8wTM8QaxrgsmbrZ+s",
      "include_colab_link": true
    },
    "kernelspec": {
      "name": "python3",
      "display_name": "Python 3"
    },
    "language_info": {
      "name": "python"
    }
  },
  "cells": [
    {
      "cell_type": "markdown",
      "metadata": {
        "id": "view-in-github",
        "colab_type": "text"
      },
      "source": [
        "<a href=\"https://colab.research.google.com/github/ShauryaDusht/machine-learning-basics/blob/main/LAB8_ML.ipynb\" target=\"_parent\"><img src=\"https://colab.research.google.com/assets/colab-badge.svg\" alt=\"Open In Colab\"/></a>"
      ]
    },
    {
      "cell_type": "markdown",
      "source": [
        "# **Neural Networks**"
      ],
      "metadata": {
        "id": "Yeghpar4a3B9"
      }
    },
    {
      "cell_type": "markdown",
      "source": [
        "```\n",
        "Aim : Implement 2 and 3 input Logic Gates using Neural Networks with and without\n",
        "employing the libraries. Perform the quadratic function implementation task\n",
        "using Neural Networks and validate various parameter optimisation techniques.\n",
        "```"
      ],
      "metadata": {
        "id": "hd_v_T41r0_g"
      }
    },
    {
      "cell_type": "markdown",
      "source": [
        "# Logic Gates"
      ],
      "metadata": {
        "id": "r18QbFvcivlW"
      }
    },
    {
      "cell_type": "code",
      "source": [
        "from IPython.display import clear_output\n",
        "!pip install torch\n",
        "clear_output()"
      ],
      "metadata": {
        "id": "KmYFH-2lwMBI"
      },
      "execution_count": null,
      "outputs": []
    },
    {
      "cell_type": "markdown",
      "source": [
        "```\n",
        "Aim: Implement 2 and 3 input Logic Gates using Neural Networks with and without\n",
        "employing the libraries.\n",
        "Perform the quadratic function implementation task using Neural Networks and\n",
        "validate various parameter optimisation techniques\n",
        "```"
      ],
      "metadata": {
        "id": "elWxsZGXaxzl"
      }
    },
    {
      "cell_type": "code",
      "source": [
        "import numpy as np\n",
        "\n",
        "def sigmoid(x):\n",
        "    return 1 / (1 + np.exp(-x))\n",
        "\n",
        "def derivative_sigmoid(x):\n",
        "    return x * (1 - x)\n",
        "\n",
        "def train(inputs, outputs, weights, bias, lr=0.1, epochs=10000):\n",
        "    for epoch in range(1, epochs + 1):\n",
        "        # Forward Pass\n",
        "        z = np.dot(inputs, weights) + bias\n",
        "        y_pred = sigmoid(z)\n",
        "\n",
        "        # Loss calculation\n",
        "        loss = np.mean((outputs - y_pred) ** 2)\n",
        "\n",
        "        # Backpropagation\n",
        "        error = outputs - y_pred\n",
        "        d_error = error * derivative_sigmoid(y_pred)\n",
        "\n",
        "        # Gradient Descent\n",
        "        weights += lr * np.dot(inputs.T, d_error)\n",
        "        bias += lr * np.sum(d_error)\n",
        "\n",
        "        # Print loss every 1000 epochs\n",
        "        if epoch % 2000 == 0 or epoch == 1:\n",
        "            print(f\"Epoch {epoch}, Loss: {loss}\")\n",
        "\n",
        "    return weights, bias"
      ],
      "metadata": {
        "id": "O__4c5iEbhHJ"
      },
      "execution_count": null,
      "outputs": []
    },
    {
      "cell_type": "markdown",
      "source": [
        "## OR Gate"
      ],
      "metadata": {
        "id": "uPsRBBxfa3ZG"
      }
    },
    {
      "cell_type": "code",
      "source": [
        "inputs = np.array([[0,0], [0,1], [1,0], [1,1]])\n",
        "outputs = np.array([[0], [1], [1], [1]])\n",
        "\n",
        "weights = np.random.rand(2,1)\n",
        "bias = np.random.rand(1)\n",
        "print(f\"Weights before Training: {weights}\\nBias before Training: {bias}\")\n",
        "preds = sigmoid(np.dot(inputs, weights) + bias)\n",
        "print(\"Predictions before Training:\", preds.round())\n",
        "weigths, bias = train(inputs, outputs, weights, bias)\n",
        "print(f\"Weights after Training: {weights}\\nBias after Training: {bias}\")\n",
        "final_preds = sigmoid(np.dot(inputs, weights) + bias)\n",
        "print(\"Final Predictions:\", final_preds.round())"
      ],
      "metadata": {
        "colab": {
          "base_uri": "https://localhost:8080/"
        },
        "id": "gim9TTKmdL40",
        "outputId": "1b391f45-f229-4b87-d681-734a53f603bf"
      },
      "execution_count": null,
      "outputs": [
        {
          "output_type": "stream",
          "name": "stdout",
          "text": [
            "Weights before Training: [[0.44517647]\n",
            " [0.2493108 ]]\n",
            "Bias before Training: [0.87169105]\n",
            "Predictions before Training: [[1.]\n",
            " [1.]\n",
            " [1.]\n",
            " [1.]]\n",
            "Epoch 1, Loss: 0.15802595535347164\n",
            "Epoch 2000, Loss: 0.008369668733755433\n",
            "Epoch 4000, Loss: 0.003760594246787806\n",
            "Epoch 6000, Loss: 0.0023793042745601494\n",
            "Epoch 8000, Loss: 0.0017281867451001062\n",
            "Epoch 10000, Loss: 0.001352309383857003\n",
            "Weights after Training: [[6.17544862]\n",
            " [6.17542374]]\n",
            "Bias after Training: [-2.84151399]\n",
            "Final Predictions: [[0.]\n",
            " [1.]\n",
            " [1.]\n",
            " [1.]]\n"
          ]
        }
      ]
    },
    {
      "cell_type": "markdown",
      "source": [
        "## AND Gate"
      ],
      "metadata": {
        "id": "iqB3vCJDerud"
      }
    },
    {
      "cell_type": "code",
      "source": [
        "outputs = np.array([[0], [0], [0], [1]])\n",
        "\n",
        "weights = np.random.rand(2,1)\n",
        "bias = np.random.rand(1)\n",
        "\n",
        "print(f\"Weights before Training: {weights}\\nBias before Training: {bias}\")\n",
        "preds = sigmoid(np.dot(inputs, weights) + bias)\n",
        "print(\"Predictions before Training:\", preds.round())\n",
        "weigths, bias = train(inputs, outputs, weights, bias)\n",
        "print(f\"Weights after Training: {weights}\\nBias after Training: {bias}\")\n",
        "final_preds = sigmoid(np.dot(inputs, weights) + bias)\n",
        "print(\"Final Predictions:\", final_preds.round())"
      ],
      "metadata": {
        "colab": {
          "base_uri": "https://localhost:8080/"
        },
        "id": "eymja1EpetSd",
        "outputId": "6e2081fb-3e2e-49c1-ba30-0b1ab51472e0"
      },
      "execution_count": null,
      "outputs": [
        {
          "output_type": "stream",
          "name": "stdout",
          "text": [
            "Weights before Training: [[0.32609675]\n",
            " [0.53648958]]\n",
            "Bias before Training: [0.09322334]\n",
            "Predictions before Training: [[1.]\n",
            " [1.]\n",
            " [1.]\n",
            " [1.]]\n",
            "Epoch 1, Loss: 0.28515295857333695\n",
            "Epoch 2000, Loss: 0.015625581703721095\n",
            "Epoch 4000, Loss: 0.007291931955947871\n",
            "Epoch 6000, Loss: 0.004643785306053496\n",
            "Epoch 8000, Loss: 0.003376249985334078\n",
            "Epoch 10000, Loss: 0.0026405621711964125\n",
            "Weights after Training: [[5.47943502]\n",
            " [5.47943502]]\n",
            "Bias after Training: [-8.31184461]\n",
            "Final Predictions: [[0.]\n",
            " [0.]\n",
            " [0.]\n",
            " [1.]]\n"
          ]
        }
      ]
    },
    {
      "cell_type": "markdown",
      "source": [
        "Change the outputs and we can similarly implement the NAND and NOR gates"
      ],
      "metadata": {
        "id": "_nJU4q88gV0H"
      }
    },
    {
      "cell_type": "markdown",
      "source": [
        "## 3-Input NAND Gate\n"
      ],
      "metadata": {
        "id": "Ycxi5Trtgbe4"
      }
    },
    {
      "cell_type": "code",
      "source": [
        "inputs = np.array([\n",
        "    [0,0,0],[0,0,1],[0,1,0],[0,1,1],[1,0,0],[1,0,1],[1,1,0],[1,1,1]\n",
        "    ])\n",
        "outputs = np.array([[1],[1],[1],[1],[1],[1],[1],[0]])\n",
        "weights = np.random.rand(3,1)\n",
        "bias = np.random.rand(1)\n",
        "\n",
        "print(f\"Weights before Training: {weights}\\nBias before Training: {bias}\")\n",
        "preds = sigmoid(np.dot(inputs, weights) + bias)\n",
        "print(\"Predictions before Training:\", preds.round())\n",
        "weigths, bias = train(inputs, outputs, weights, bias)\n",
        "print(f\"Weights after Training: {weights}\\nBias after Training: {bias}\")\n",
        "final_preds = sigmoid(np.dot(inputs, weights) + bias)\n",
        "print(\"Final Predictions:\", final_preds.round())"
      ],
      "metadata": {
        "colab": {
          "base_uri": "https://localhost:8080/"
        },
        "id": "-lJHLu_XgeBI",
        "outputId": "69a9466a-fc85-4df4-8ddc-0dedbeecb185"
      },
      "execution_count": null,
      "outputs": [
        {
          "output_type": "stream",
          "name": "stdout",
          "text": [
            "Weights before Training: [[0.74661707]\n",
            " [0.55184553]\n",
            " [0.7919931 ]]\n",
            "Bias before Training: [0.10548085]\n",
            "Predictions before Training: [[1.]\n",
            " [1.]\n",
            " [1.]\n",
            " [1.]\n",
            " [1.]\n",
            " [1.]\n",
            " [1.]\n",
            " [1.]]\n",
            "Epoch 1, Loss: 0.17814246034238831\n",
            "Epoch 2000, Loss: 0.020066817136942448\n",
            "Epoch 4000, Loss: 0.009157095172194643\n",
            "Epoch 6000, Loss: 0.005713586852514867\n",
            "Epoch 8000, Loss: 0.004092651035937991\n",
            "Epoch 10000, Loss: 0.0031656640619667194\n",
            "Weights after Training: [[-4.74223409]\n",
            " [-4.74223409]\n",
            " [-4.74223409]]\n",
            "Bias after Training: [12.09305367]\n",
            "Final Predictions: [[1.]\n",
            " [1.]\n",
            " [1.]\n",
            " [1.]\n",
            " [1.]\n",
            " [1.]\n",
            " [1.]\n",
            " [0.]]\n"
          ]
        }
      ]
    },
    {
      "cell_type": "markdown",
      "source": [
        "## XOR Gate"
      ],
      "metadata": {
        "id": "5UWNxxJtfzFF"
      }
    },
    {
      "cell_type": "code",
      "source": [
        "def train_xor(inputs, outputs, weights_1, bias_1, weights_2, bias_2, lr=0.1, epochs=20000):\n",
        "    for epoch in range(1, epochs + 1):\n",
        "        # Forward Pass\n",
        "        z1 = np.dot(inputs, weights_1) + bias_1\n",
        "        a1 = sigmoid(z1)\n",
        "\n",
        "        z2 = np.dot(a1, weights_2) + bias_2\n",
        "        y_pred = sigmoid(z2)\n",
        "\n",
        "        # Loss calculation (Mean Squared Error)\n",
        "        loss = np.mean((outputs - y_pred) ** 2)\n",
        "\n",
        "        # Backpropagation\n",
        "        error_output = outputs - y_pred\n",
        "        d_output = error_output * derivative_sigmoid(y_pred)\n",
        "\n",
        "        error_hidden = np.dot(d_output, weights_2.T)\n",
        "        d_hidden = error_hidden * derivative_sigmoid(a1)\n",
        "\n",
        "        # Gradient Descent\n",
        "        weights_2 += lr * np.dot(a1.T, d_output)\n",
        "        bias_2 += lr * np.sum(d_output, axis=0)\n",
        "\n",
        "        weights_1 += lr * np.dot(inputs.T, d_hidden)\n",
        "        bias_1 += lr * np.sum(d_hidden, axis=0)\n",
        "\n",
        "        # Print loss every 4000 epochs\n",
        "        if epoch % 4000 == 0:\n",
        "            print(f\"Epoch {epoch}, Loss: {loss}\")\n",
        "\n",
        "    return weights_1, bias_1, weights_2, bias_2\n",
        "\n",
        "def predict_xor(inputs, weights_1, bias_1, weights_2, bias_2):\n",
        "    z1 = np.dot(inputs, weights_1) + bias_1\n",
        "    a1 = sigmoid(z1)\n",
        "\n",
        "    z2 = np.dot(a1, weights_2) + bias_2\n",
        "    y_pred = sigmoid(z2)\n",
        "    return y_pred.round()"
      ],
      "metadata": {
        "id": "sLjGNg1AjSYJ"
      },
      "execution_count": null,
      "outputs": []
    },
    {
      "cell_type": "markdown",
      "source": [
        "![XOR](https://th.bing.com/th/id/R.a80fc03c681b6e1d107d136c47231a26?rik=q26CNC%2bubUMRpw&riu=http%3a%2f%2fi.stack.imgur.com%2fnRZ6z.png&ehk=Cy%2b9H%2bxmlKLrQstZ9rDmAFu5onolzUDJyT25w8I4o4U%3d&risl=&pid=ImgRaw&r=0&sres=1&sresct=1)"
      ],
      "metadata": {
        "id": "e0VudEdojiIa"
      }
    },
    {
      "cell_type": "code",
      "source": [
        "# XOR input and output\n",
        "inputs = np.array([[0,0], [0,1], [1,0], [1,1]])\n",
        "outputs = np.array([[0], [1], [1], [0]])\n",
        "\n",
        "weights_1 = np.random.randn(2,2) # there are 2 nodes\n",
        "bias_1 = np.random.randn(2)\n",
        "\n",
        "weights_2 = np.random.randn(2,1)\n",
        "bias_2 = np.random.randn(1)\n",
        "\n",
        "print(f\"Weights 1 before Training: {weights_1}\\nBias 1 before Training: {bias_1}\")\n",
        "print(f\"Weights 2 before Training: {weights_2}\\nBias 2 before Training: {bias_2}\")\n",
        "\n",
        "# Predictions before training\n",
        "preds = predict_xor(inputs, weights_1, bias_1, weights_2, bias_2)\n",
        "print(f\"Predictions before Training: {preds}\")\n",
        "\n",
        "# Train the network\n",
        "weights_1, bias_1, weights_2, bias_2 = train_xor(inputs, outputs, weights_1, bias_1, weights_2, bias_2)\n",
        "\n",
        "print(f\"Weights 1 after Training: {weights_1}\\nBias 1 after Training: {bias_1}\")\n",
        "print(f\"Weights 2 after Training: {weights_2}\\nBias 2 after Training: {bias_2}\")\n",
        "\n",
        "# Predictions after training\n",
        "final_preds = predict_xor(inputs, weights_1, bias_1, weights_2, bias_2)\n",
        "print(f\"Final Predictions: {final_preds}\")"
      ],
      "metadata": {
        "colab": {
          "base_uri": "https://localhost:8080/"
        },
        "id": "lAY7rXBVhxhQ",
        "outputId": "000932a8-81ac-4919-c1ad-bf1970ae1a46"
      },
      "execution_count": null,
      "outputs": [
        {
          "output_type": "stream",
          "name": "stdout",
          "text": [
            "Weights 1 before Training: [[-0.33742211 -1.34719629]\n",
            " [ 1.11229166  1.42465642]]\n",
            "Bias 1 before Training: [ 1.03297475 -2.4857726 ]\n",
            "Weights 2 before Training: [[-0.53948484]\n",
            " [-1.07063388]]\n",
            "Bias 2 before Training: [0.60615362]\n",
            "Predictions before Training: [[1.]\n",
            " [0.]\n",
            " [1.]\n",
            " [1.]]\n",
            "Epoch 4000, Loss: 0.019062484791831622\n",
            "Epoch 8000, Loss: 0.003346477698551675\n",
            "Epoch 12000, Loss: 0.0017263475455033708\n",
            "Epoch 16000, Loss: 0.0011464272055815058\n",
            "Epoch 20000, Loss: 0.0008529113431972673\n",
            "Weights 1 after Training: [[-5.88248529 -5.44099292]\n",
            " [ 6.02039204  5.26546525]]\n",
            "Bias 1 after Training: [ 2.99611616 -2.86078115]\n",
            "Weights 2 after Training: [[-8.15927657]\n",
            " [ 8.61875935]]\n",
            "Bias 2 after Training: [3.80510609]\n",
            "Final Predictions: [[0.]\n",
            " [1.]\n",
            " [1.]\n",
            " [0.]]\n"
          ]
        }
      ]
    },
    {
      "cell_type": "markdown",
      "source": [
        "# Quadratic Function"
      ],
      "metadata": {
        "id": "5hSyeF9Zh7BB"
      }
    },
    {
      "cell_type": "code",
      "source": [
        "%%time\n",
        "\n",
        "import torch\n",
        "import torch.nn as nn\n",
        "import torch.optim as optim\n",
        "\n",
        "import numpy as np\n",
        "import matplotlib.pyplot as plt\n",
        "\n",
        "x = np.arange(-50, 51, 0.1).reshape(-1, 1)\n",
        "y = x ** 2\n",
        "\n",
        "# normalization for easy computation\n",
        "x_norm = (x - np.min(x)) / (np.max(x) - np.min(x))\n",
        "y_norm = (y - np.min(y)) / (np.max(y) - np.min(y))\n",
        "\n",
        "x_tensor = torch.tensor(x_norm, dtype=torch.float32)\n",
        "y_tensor = torch.tensor(y_norm, dtype=torch.float32)\n",
        "\n",
        "class NeuralNet(nn.Module):\n",
        "    def __init__(self):\n",
        "        super(NeuralNet, self).__init__()\n",
        "        self.hidden = nn.Linear(1, 40) # hidden layer(has 40 neurons)\n",
        "        self.relu = nn.ReLU() # activation function - ReLU\n",
        "        self.output = nn.Linear(40, 1) # output layer\n",
        "\n",
        "    def forward(self, x):\n",
        "        x = self.hidden(x)\n",
        "        x = self.relu(x)\n",
        "        x = self.output(x)\n",
        "        return x\n",
        "\n",
        "model = NeuralNet() # our model\n",
        "criterion = nn.MSELoss() # Mean Square Error\n",
        "optimizer = optim.Adam(model.parameters(), lr=0.01) # Adam Gradient Descent\n",
        "\n",
        "epochs = 500\n",
        "for epoch in range(1,epochs+1):\n",
        "    optimizer.zero_grad()  # clear previous gradients\n",
        "    y_pred = model(x_tensor)  # forward pass\n",
        "    loss = criterion(y_pred, y_tensor)  # compute loss\n",
        "    loss.backward()  # backpropagation\n",
        "    optimizer.step()  # update weights\n",
        "\n",
        "    if epoch % 100 == 0:\n",
        "        print(f\"Epoch [{epoch}/{epochs}], Loss: {loss.item():.6f}\")\n",
        "\n",
        "# make predictions\n",
        "with torch.no_grad():\n",
        "    y_pred = model(x_tensor).numpy()\n",
        "\n",
        "# rescaled\n",
        "y_pred_rescaled = y_pred * (np.max(y) - np.min(y)) + np.min(y)\n",
        "\n",
        "plt.figure(figsize=(8, 5))\n",
        "plt.scatter(x, y, label=\"Original Data\", color='blue', s=10)\n",
        "plt.plot(x, y_pred_rescaled, label=\"Neural Network Approximation\", color='red')\n",
        "plt.legend()\n",
        "plt.xlabel(\"x\")\n",
        "plt.ylabel(\"y\")\n",
        "plt.title(\"Fitting a Quadratic Function with a Neural Network (PyTorch)\")\n",
        "plt.show()"
      ],
      "metadata": {
        "colab": {
          "base_uri": "https://localhost:8080/",
          "height": 609
        },
        "id": "fMq5IdqXlxGZ",
        "outputId": "f407b5dd-8703-4ed1-ff5c-1b5b9ce1829a"
      },
      "execution_count": null,
      "outputs": [
        {
          "output_type": "stream",
          "name": "stdout",
          "text": [
            "Epoch [100/500], Loss: 0.002879\n",
            "Epoch [200/500], Loss: 0.000298\n",
            "Epoch [300/500], Loss: 0.000117\n",
            "Epoch [400/500], Loss: 0.000081\n",
            "Epoch [500/500], Loss: 0.000070\n"
          ]
        },
        {
          "output_type": "display_data",
          "data": {
            "text/plain": [
              "<Figure size 800x500 with 1 Axes>"
            ],
            "image/png": "[encoded data removed]"
          },
          "metadata": {}
        },
        {
          "output_type": "stream",
          "name": "stdout",
          "text": [
            "CPU times: user 967 ms, sys: 4.26 ms, total: 972 ms\n",
            "Wall time: 1.01 s\n"
          ]
        }
      ]
    },
    {
      "cell_type": "code",
      "source": [],
      "metadata": {
        "id": "oP5q2zv3mxF_"
      },
      "execution_count": null,
      "outputs": []
    }
  ]
}
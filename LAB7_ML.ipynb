{
  "nbformat": 4,
  "nbformat_minor": 0,
  "metadata": {
    "colab": {
      "provenance": [],
      "authorship_tag": "ABX9TyOxsfrouER5D0/yuMuahgQ4",
      "include_colab_link": true
    },
    "kernelspec": {
      "name": "python3",
      "display_name": "Python 3"
    },
    "language_info": {
      "name": "python"
    }
  },
  "cells": [
    {
      "cell_type": "markdown",
      "metadata": {
        "id": "view-in-github",
        "colab_type": "text"
      },
      "source": [
        "<a href=\"https://colab.research.google.com/github/ShauryaDusht/machine-learning-basics/blob/main/LAB7_ML.ipynb\" target=\"_parent\"><img src=\"https://colab.research.google.com/assets/colab-badge.svg\" alt=\"Open In Colab\"/></a>"
      ]
    },
    {
      "cell_type": "markdown",
      "source": [
        "# Logistic Regression"
      ],
      "metadata": {
        "id": "qt-3motEelqZ"
      }
    },
    {
      "cell_type": "markdown",
      "source": [
        "```\n",
        "Aim : Perform logistic regression with inbuilt and without inbuilt function for\n",
        "binary classfication. Also extend the code for multiclass classification using\n",
        "softmax function\n",
        "```"
      ],
      "metadata": {
        "id": "oVNWEg4RhHZa"
      }
    },
    {
      "cell_type": "markdown",
      "source": [
        "## Binary Logistic Regression"
      ],
      "metadata": {
        "id": "VljSn2932YpM"
      }
    },
    {
      "cell_type": "markdown",
      "source": [
        "### Making Synthetic Data"
      ],
      "metadata": {
        "id": "t_bwVqmtg_e6"
      }
    },
    {
      "cell_type": "code",
      "source": [
        "import pandas as pd\n",
        "\n",
        "import random\n",
        "\n",
        "def generate_synthetic_data(num_rows=40):\n",
        "    data = []\n",
        "\n",
        "    for _ in range(num_rows):\n",
        "        x1 = random.uniform(1, 8)\n",
        "        x2 = random.uniform(1, 8)\n",
        "        label = 0 if (x1 < 4 and x2 < 4) or (x1 > 5 and x2 < 5) else 1\n",
        "        data.append([x1, x2, label])\n",
        "\n",
        "    return data\n",
        "\n",
        "data = generate_synthetic_data(40)\n",
        "\n",
        "columns = ['x1', 'x2', 'y']\n",
        "\n",
        "df = pd.DataFrame(data, columns=columns)\n",
        "\n",
        "df.head()"
      ],
      "metadata": {
        "colab": {
          "base_uri": "https://localhost:8080/",
          "height": 206
        },
        "id": "1e-k9X6_hDXq",
        "outputId": "00a4be22-f224-4466-bfd2-47fb2fa166f9"
      },
      "execution_count": null,
      "outputs": [
        {
          "output_type": "execute_result",
          "data": {
            "text/plain": [
              "         x1        x2  y\n",
              "0  1.383347  6.543887  1\n",
              "1  6.509985  6.341372  1\n",
              "2  6.507020  5.250797  1\n",
              "3  7.608276  7.032724  1\n",
              "4  3.306733  5.145595  1"
            ],
            "text/html": [
              "\n",
              "  <div id=\"df-b16aaa59-4194-4cc1-90c1-a43bc67eba31\" class=\"colab-df-container\">\n",
              "    <div>\n",
              "<style scoped>\n",
              "    .dataframe tbody tr th:only-of-type {\n",
              "        vertical-align: middle;\n",
              "    }\n",
              "\n",
              "    .dataframe tbody tr th {\n",
              "        vertical-align: top;\n",
              "    }\n",
              "\n",
              "    .dataframe thead th {\n",
              "        text-align: right;\n",
              "    }\n",
              "</style>\n",
              "<table border=\"1\" class=\"dataframe\">\n",
              "  <thead>\n",
              "    <tr style=\"text-align: right;\">\n",
              "      <th></th>\n",
              "      <th>x1</th>\n",
              "      <th>x2</th>\n",
              "      <th>y</th>\n",
              "    </tr>\n",
              "  </thead>\n",
              "  <tbody>\n",
              "    <tr>\n",
              "      <th>0</th>\n",
              "      <td>1.383347</td>\n",
              "      <td>6.543887</td>\n",
              "      <td>1</td>\n",
              "    </tr>\n",
              "    <tr>\n",
              "      <th>1</th>\n",
              "      <td>6.509985</td>\n",
              "      <td>6.341372</td>\n",
              "      <td>1</td>\n",
              "    </tr>\n",
              "    <tr>\n",
              "      <th>2</th>\n",
              "      <td>6.507020</td>\n",
              "      <td>5.250797</td>\n",
              "      <td>1</td>\n",
              "    </tr>\n",
              "    <tr>\n",
              "      <th>3</th>\n",
              "      <td>7.608276</td>\n",
              "      <td>7.032724</td>\n",
              "      <td>1</td>\n",
              "    </tr>\n",
              "    <tr>\n",
              "      <th>4</th>\n",
              "      <td>3.306733</td>\n",
              "      <td>5.145595</td>\n",
              "      <td>1</td>\n",
              "    </tr>\n",
              "  </tbody>\n",
              "</table>\n",
              "</div>\n",
              "    <div class=\"colab-df-buttons\">\n",
              "\n",
              "  <div class=\"colab-df-container\">\n",
              "    <button class=\"colab-df-convert\" onclick=\"convertToInteractive('df-b16aaa59-4194-4cc1-90c1-a43bc67eba31')\"\n",
              "            title=\"Convert this dataframe to an interactive table.\"\n",
              "            style=\"display:none;\">\n",
              "\n",
              "  <svg xmlns=\"http://www.w3.org/2000/svg\" height=\"24px\" viewBox=\"0 -960 960 960\">\n",
              "    <path d=\"M120-120v-720h720v720H120Zm60-500h600v-160H180v160Zm220 220h160v-160H400v160Zm0 220h160v-160H400v160ZM180-400h160v-160H180v160Zm440 0h160v-160H620v160ZM180-180h160v-160H180v160Zm440 0h160v-160H620v160Z\"/>\n",
              "  </svg>\n",
              "    </button>\n",
              "\n",
              "  <style>\n",
              "    .colab-df-container {\n",
              "      display:flex;\n",
              "      gap: 12px;\n",
              "    }\n",
              "\n",
              "    .colab-df-convert {\n",
              "      background-color: #E8F0FE;\n",
              "      border: none;\n",
              "      border-radius: 50%;\n",
              "      cursor: pointer;\n",
              "      display: none;\n",
              "      fill: #1967D2;\n",
              "      height: 32px;\n",
              "      padding: 0 0 0 0;\n",
              "      width: 32px;\n",
              "    }\n",
              "\n",
              "    .colab-df-convert:hover {\n",
              "      background-color: #E2EBFA;\n",
              "      box-shadow: 0px 1px 2px rgba(60, 64, 67, 0.3), 0px 1px 3px 1px rgba(60, 64, 67, 0.15);\n",
              "      fill: #174EA6;\n",
              "    }\n",
              "\n",
              "    .colab-df-buttons div {\n",
              "      margin-bottom: 4px;\n",
              "    }\n",
              "\n",
              "    [theme=dark] .colab-df-convert {\n",
              "      background-color: #3B4455;\n",
              "      fill: #D2E3FC;\n",
              "    }\n",
              "\n",
              "    [theme=dark] .colab-df-convert:hover {\n",
              "      background-color: #434B5C;\n",
              "      box-shadow: 0px 1px 3px 1px rgba(0, 0, 0, 0.15);\n",
              "      filter: drop-shadow(0px 1px 2px rgba(0, 0, 0, 0.3));\n",
              "      fill: #FFFFFF;\n",
              "    }\n",
              "  </style>\n",
              "\n",
              "    <script>\n",
              "      const buttonEl =\n",
              "        document.querySelector('#df-b16aaa59-4194-4cc1-90c1-a43bc67eba31 button.colab-df-convert');\n",
              "      buttonEl.style.display =\n",
              "        google.colab.kernel.accessAllowed ? 'block' : 'none';\n",
              "\n",
              "      async function convertToInteractive(key) {\n",
              "        const element = document.querySelector('#df-b16aaa59-4194-4cc1-90c1-a43bc67eba31');\n",
              "        const dataTable =\n",
              "          await google.colab.kernel.invokeFunction('convertToInteractive',\n",
              "                                                    [key], {});\n",
              "        if (!dataTable) return;\n",
              "\n",
              "        const docLinkHtml = 'Like what you see? Visit the ' +\n",
              "          '<a target=\"_blank\" href=https://colab.research.google.com/notebooks/data_table.ipynb>data table notebook</a>'\n",
              "          + ' to learn more about interactive tables.';\n",
              "        element.innerHTML = '';\n",
              "        dataTable['output_type'] = 'display_data';\n",
              "        await google.colab.output.renderOutput(dataTable, element);\n",
              "        const docLink = document.createElement('div');\n",
              "        docLink.innerHTML = docLinkHtml;\n",
              "        element.appendChild(docLink);\n",
              "      }\n",
              "    </script>\n",
              "  </div>\n",
              "\n",
              "\n",
              "<div id=\"df-59ec2f01-3b62-4b5a-ac20-3daf670348bf\">\n",
              "  <button class=\"colab-df-quickchart\" onclick=\"quickchart('df-59ec2f01-3b62-4b5a-ac20-3daf670348bf')\"\n",
              "            title=\"Suggest charts\"\n",
              "            style=\"display:none;\">\n",
              "\n",
              "<svg xmlns=\"http://www.w3.org/2000/svg\" height=\"24px\"viewBox=\"0 0 24 24\"\n",
              "     width=\"24px\">\n",
              "    <g>\n",
              "        <path d=\"M19 3H5c-1.1 0-2 .9-2 2v14c0 1.1.9 2 2 2h14c1.1 0 2-.9 2-2V5c0-1.1-.9-2-2-2zM9 17H7v-7h2v7zm4 0h-2V7h2v10zm4 0h-2v-4h2v4z\"/>\n",
              "    </g>\n",
              "</svg>\n",
              "  </button>\n",
              "\n",
              "<style>\n",
              "  .colab-df-quickchart {\n",
              "      --bg-color: #E8F0FE;\n",
              "      --fill-color: #1967D2;\n",
              "      --hover-bg-color: #E2EBFA;\n",
              "      --hover-fill-color: #174EA6;\n",
              "      --disabled-fill-color: #AAA;\n",
              "      --disabled-bg-color: #DDD;\n",
              "  }\n",
              "\n",
              "  [theme=dark] .colab-df-quickchart {\n",
              "      --bg-color: #3B4455;\n",
              "      --fill-color: #D2E3FC;\n",
              "      --hover-bg-color: #434B5C;\n",
              "      --hover-fill-color: #FFFFFF;\n",
              "      --disabled-bg-color: #3B4455;\n",
              "      --disabled-fill-color: #666;\n",
              "  }\n",
              "\n",
              "  .colab-df-quickchart {\n",
              "    background-color: var(--bg-color);\n",
              "    border: none;\n",
              "    border-radius: 50%;\n",
              "    cursor: pointer;\n",
              "    display: none;\n",
              "    fill: var(--fill-color);\n",
              "    height: 32px;\n",
              "    padding: 0;\n",
              "    width: 32px;\n",
              "  }\n",
              "\n",
              "  .colab-df-quickchart:hover {\n",
              "    background-color: var(--hover-bg-color);\n",
              "    box-shadow: 0 1px 2px rgba(60, 64, 67, 0.3), 0 1px 3px 1px rgba(60, 64, 67, 0.15);\n",
              "    fill: var(--button-hover-fill-color);\n",
              "  }\n",
              "\n",
              "  .colab-df-quickchart-complete:disabled,\n",
              "  .colab-df-quickchart-complete:disabled:hover {\n",
              "    background-color: var(--disabled-bg-color);\n",
              "    fill: var(--disabled-fill-color);\n",
              "    box-shadow: none;\n",
              "  }\n",
              "\n",
              "  .colab-df-spinner {\n",
              "    border: 2px solid var(--fill-color);\n",
              "    border-color: transparent;\n",
              "    border-bottom-color: var(--fill-color);\n",
              "    animation:\n",
              "      spin 1s steps(1) infinite;\n",
              "  }\n",
              "\n",
              "  @keyframes spin {\n",
              "    0% {\n",
              "      border-color: transparent;\n",
              "      border-bottom-color: var(--fill-color);\n",
              "      border-left-color: var(--fill-color);\n",
              "    }\n",
              "    20% {\n",
              "      border-color: transparent;\n",
              "      border-left-color: var(--fill-color);\n",
              "      border-top-color: var(--fill-color);\n",
              "    }\n",
              "    30% {\n",
              "      border-color: transparent;\n",
              "      border-left-color: var(--fill-color);\n",
              "      border-top-color: var(--fill-color);\n",
              "      border-right-color: var(--fill-color);\n",
              "    }\n",
              "    40% {\n",
              "      border-color: transparent;\n",
              "      border-right-color: var(--fill-color);\n",
              "      border-top-color: var(--fill-color);\n",
              "    }\n",
              "    60% {\n",
              "      border-color: transparent;\n",
              "      border-right-color: var(--fill-color);\n",
              "    }\n",
              "    80% {\n",
              "      border-color: transparent;\n",
              "      border-right-color: var(--fill-color);\n",
              "      border-bottom-color: var(--fill-color);\n",
              "    }\n",
              "    90% {\n",
              "      border-color: transparent;\n",
              "      border-bottom-color: var(--fill-color);\n",
              "    }\n",
              "  }\n",
              "</style>\n",
              "\n",
              "  <script>\n",
              "    async function quickchart(key) {\n",
              "      const quickchartButtonEl =\n",
              "        document.querySelector('#' + key + ' button');\n",
              "      quickchartButtonEl.disabled = true;  // To prevent multiple clicks.\n",
              "      quickchartButtonEl.classList.add('colab-df-spinner');\n",
              "      try {\n",
              "        const charts = await google.colab.kernel.invokeFunction(\n",
              "            'suggestCharts', [key], {});\n",
              "      } catch (error) {\n",
              "        console.error('Error during call to suggestCharts:', error);\n",
              "      }\n",
              "      quickchartButtonEl.classList.remove('colab-df-spinner');\n",
              "      quickchartButtonEl.classList.add('colab-df-quickchart-complete');\n",
              "    }\n",
              "    (() => {\n",
              "      let quickchartButtonEl =\n",
              "        document.querySelector('#df-59ec2f01-3b62-4b5a-ac20-3daf670348bf button');\n",
              "      quickchartButtonEl.style.display =\n",
              "        google.colab.kernel.accessAllowed ? 'block' : 'none';\n",
              "    })();\n",
              "  </script>\n",
              "</div>\n",
              "\n",
              "    </div>\n",
              "  </div>\n"
            ],
            "application/vnd.google.colaboratory.intrinsic+json": {
              "type": "dataframe",
              "variable_name": "df",
              "summary": "{\n  \"name\": \"df\",\n  \"rows\": 40,\n  \"fields\": [\n    {\n      \"column\": \"x1\",\n      \"properties\": {\n        \"dtype\": \"number\",\n        \"std\": 2.191120352865899,\n        \"min\": 1.3833467471796008,\n        \"max\": 7.996172137676235,\n        \"num_unique_values\": 40,\n        \"samples\": [\n          1.6602651446794416,\n          3.993150257574272,\n          3.0314361742750964\n        ],\n        \"semantic_type\": \"\",\n        \"description\": \"\"\n      }\n    },\n    {\n      \"column\": \"x2\",\n      \"properties\": {\n        \"dtype\": \"number\",\n        \"std\": 1.9418725230671152,\n        \"min\": 1.1280599335528387,\n        \"max\": 7.927908027618872,\n        \"num_unique_values\": 40,\n        \"samples\": [\n          5.629678778149875,\n          4.352465651099687,\n          7.362024754734209\n        ],\n        \"semantic_type\": \"\",\n        \"description\": \"\"\n      }\n    },\n    {\n      \"column\": \"y\",\n      \"properties\": {\n        \"dtype\": \"number\",\n        \"std\": 0,\n        \"min\": 0,\n        \"max\": 1,\n        \"num_unique_values\": 2,\n        \"samples\": [\n          0,\n          1\n        ],\n        \"semantic_type\": \"\",\n        \"description\": \"\"\n      }\n    }\n  ]\n}"
            }
          },
          "metadata": {},
          "execution_count": 1
        }
      ]
    },
    {
      "cell_type": "markdown",
      "source": [
        "### With Inbuilt Function"
      ],
      "metadata": {
        "id": "V4aIFbHKgBIj"
      }
    },
    {
      "cell_type": "code",
      "source": [
        "from sklearn.linear_model import LogisticRegression\n",
        "from sklearn.model_selection import train_test_split\n",
        "from sklearn.metrics import accuracy_score, classification_report, confusion_matrix\n",
        "\n",
        "\n",
        "X = df[['x1','x2']]\n",
        "y = df['y']\n",
        "\n",
        "X_train, X_test, y_train, y_test = train_test_split(X, y, test_size=0.3, random_state=42)\n",
        "\n",
        "lr_model = LogisticRegression(max_iter=20)\n",
        "lr_model.fit(X_train, y_train)\n",
        "\n",
        "y_pred = lr_model.predict(X_test)\n",
        "\n",
        "print(\"Accuracy:\", accuracy_score(y_test, y_pred))\n",
        "print(\"\\nClassification Report:\")\n",
        "print(classification_report(y_test, y_pred))\n",
        "print(\"\\nConfusion Matrix:\")\n",
        "print(confusion_matrix(y_test, y_pred))"
      ],
      "metadata": {
        "colab": {
          "base_uri": "https://localhost:8080/"
        },
        "id": "eXw1MaAZhs-_",
        "outputId": "edb59d8e-afff-4876-e479-eb0c468f80b1"
      },
      "execution_count": null,
      "outputs": [
        {
          "output_type": "stream",
          "name": "stdout",
          "text": [
            "Accuracy: 1.0\n",
            "\n",
            "Classification Report:\n",
            "              precision    recall  f1-score   support\n",
            "\n",
            "           0       1.00      1.00      1.00         5\n",
            "           1       1.00      1.00      1.00         7\n",
            "\n",
            "    accuracy                           1.00        12\n",
            "   macro avg       1.00      1.00      1.00        12\n",
            "weighted avg       1.00      1.00      1.00        12\n",
            "\n",
            "\n",
            "Confusion Matrix:\n",
            "[[5 0]\n",
            " [0 7]]\n"
          ]
        }
      ]
    },
    {
      "cell_type": "code",
      "source": [
        "import matplotlib.pyplot as plt\n",
        "import numpy as np\n",
        "\n",
        "fig = plt.figure(figsize=(10, 5))\n",
        "ax = fig.add_subplot(111)\n",
        "\n",
        "x_min, x_max = X_train['x1'].min() - 1, X_train['x1'].max() + 1\n",
        "y_min, y_max = X_train['x2'].min() - 1, X_train['x2'].max() + 1\n",
        "xx, yy = np.meshgrid(np.arange(x_min, x_max, 0.1),\n",
        "                     np.arange(y_min, y_max, 0.1))\n",
        "\n",
        "Z = lr_model.predict(np.c_[xx.ravel(), yy.ravel()]) # ravel -> makes a linear array\n",
        "Z = Z.reshape(xx.shape)\n",
        "\n",
        "ax.contourf(xx, yy, Z, alpha=0.8)\n",
        "ax.scatter(X_train['x1'], X_train['x2'], c=y_train, edgecolors='k', marker='o', s=100, cmap='coolwarm', label='Training points')\n",
        "ax.set_xlabel('x1')\n",
        "ax.set_ylabel('x2')\n",
        "ax.set_title('Logistic Regression Decision Boundary')\n",
        "\n",
        "plt.legend()\n",
        "plt.show()"
      ],
      "metadata": {
        "colab": {
          "base_uri": "https://localhost:8080/",
          "height": 522
        },
        "id": "27YtV-h3iVcT",
        "outputId": "11c967a2-30c2-4800-f6aa-6777ef188f63"
      },
      "execution_count": null,
      "outputs": [
        {
          "output_type": "stream",
          "name": "stderr",
          "text": [
            "/usr/local/lib/python3.11/dist-packages/sklearn/utils/validation.py:2739: UserWarning: X does not have valid feature names, but LogisticRegression was fitted with feature names\n",
            "  warnings.warn(\n"
          ]
        },
        {
          "output_type": "display_data",
          "data": {
            "text/plain": [
              "<Figure size 1000x500 with 1 Axes>"
            ],
            "image/png": "[encoded data removed]"
          },
          "metadata": {}
        }
      ]
    },
    {
      "cell_type": "markdown",
      "source": [
        "### Without using Inbuilt Function"
      ],
      "metadata": {
        "id": "L8Sru5gBkqvD"
      }
    },
    {
      "cell_type": "markdown",
      "source": [
        "#### Util Functions"
      ],
      "metadata": {
        "id": "IVcn30j6sEgV"
      }
    },
    {
      "cell_type": "code",
      "source": [
        "def sigmoid(z):\n",
        "    return 1 / (1 + np.exp(-z))\n",
        "\n",
        "def diff_sigmoid(z):\n",
        "    y = sigmoid(z)\n",
        "    return y * (1 - y)\n",
        "\n",
        "def compute_loss(y, y_pred):\n",
        "    m = len(y)\n",
        "    loss = - (1/m) * np.sum(y * np.log(y_pred) + (1 - y) * np.log(1 - y_pred))\n",
        "    return loss\n",
        "\n",
        "def gradient_descent(X, y, lr=0.01, epochs=1000):\n",
        "    m, n = X.shape\n",
        "    theta = np.zeros(n)\n",
        "    loss_history = []\n",
        "\n",
        "    for _ in range(epochs):\n",
        "        y_pred = sigmoid(np.dot(X, theta))\n",
        "        gradient = (1/m) * np.dot(X.T, (y_pred - y))\n",
        "\n",
        "        theta -= lr * gradient\n",
        "\n",
        "        loss = compute_loss(y, y_pred)\n",
        "        loss_history.append(loss)\n",
        "    return theta, loss_history\n",
        "\n",
        "def predict(X, theta):\n",
        "    y_pred = sigmoid(np.dot(X, theta))\n",
        "    return [1 if i >= 0.5 else 0 for i in y_pred]"
      ],
      "metadata": {
        "id": "ooUlJvXDnJ9U"
      },
      "execution_count": null,
      "outputs": []
    },
    {
      "cell_type": "markdown",
      "source": [
        "#### Confusion Matrix Calculation"
      ],
      "metadata": {
        "id": "7JDi1e42sIQ2"
      }
    },
    {
      "cell_type": "code",
      "source": [
        "def accuracy(y_true, y_pred):\n",
        "    return np.mean(y_true == y_pred)\n",
        "\n",
        "def confusion_matrix_manual(y_true, y_pred):\n",
        "    tp, tn, fp, fn = 0, 0, 0, 0\n",
        "    for i in range(len(y_true)):\n",
        "        if y_true[i] == 1 and y_pred[i] == 1:\n",
        "            tp += 1\n",
        "        elif y_true[i] == 0 and y_pred[i] == 0:\n",
        "            tn += 1\n",
        "        elif y_true[i] == 0 and y_pred[i] == 1:\n",
        "            fp += 1\n",
        "        elif y_true[i] == 1 and y_pred[i] == 0:\n",
        "            fn += 1\n",
        "    print(f\"tp={tp} fp={fp} fn={fn} tn={tn}\\n\")\n",
        "    return np.array([[tp, fp], [fn, tn]])\n",
        "\n",
        "def classification_report_manual(y_true, y_pred):\n",
        "    res = confusion_matrix_manual(y_true, y_pred)\n",
        "\n",
        "    tp, fp, fn, tn = res[0][0], res[0][1], res[1][0], res[1][1]\n",
        "\n",
        "    acc = accuracy(y_true, y_pred)\n",
        "\n",
        "    precision = tp / (tp + fp) if tp + fp != 0 else 0\n",
        "\n",
        "    recall = tp / (tp + fn) if tp + fn != 0 else 0\n",
        "\n",
        "    f1_score = 2 * (precision * recall) / (precision + recall) if precision + recall != 0 else 0\n",
        "\n",
        "    return f\"Accuracy: {acc:.4f}\\nPrecision: {precision:.4f}\\nRecall: {recall:.4f}\\nF1-Score: {f1_score:.4f}\""
      ],
      "metadata": {
        "id": "uJyTkFhVnLb0"
      },
      "execution_count": null,
      "outputs": []
    },
    {
      "cell_type": "markdown",
      "source": [
        "#### Main Function"
      ],
      "metadata": {
        "id": "cMC1B0PuwGUx"
      }
    },
    {
      "cell_type": "code",
      "source": [
        "import numpy as np\n",
        "import pandas as pd\n",
        "from sklearn.model_selection import train_test_split\n",
        "\n",
        "# Preparing the data\n",
        "df = pd.DataFrame(data, columns=columns)\n",
        "X = df[['x1', 'x2']]\n",
        "y = df['y'].values\n",
        "\n",
        "X_train, X_test, y_train, y_test = train_test_split(X, y, test_size=0.3, random_state=42)\n",
        "\n",
        "X_train = np.c_[np.ones(X_train.shape[0]), X_train]\n",
        "X_test = np.c_[np.ones(X_test.shape[0]), X_test]\n",
        "\n",
        "theta, loss_history = gradient_descent(X_train, y_train, lr=0.1, epochs=3000)\n",
        "\n",
        "y_pred = predict(X_test, theta)"
      ],
      "metadata": {
        "id": "H5CIe-jXlS13"
      },
      "execution_count": null,
      "outputs": []
    },
    {
      "cell_type": "markdown",
      "source": [
        "#### Plotting True and Predicted values"
      ],
      "metadata": {
        "id": "VJgzr6bKwMMR"
      }
    },
    {
      "cell_type": "code",
      "source": [
        "import matplotlib.pyplot as plt\n",
        "\n",
        "# plot y_pred and y_true values\n",
        "plt.figure(figsize=(10, 5))\n",
        "\n",
        "plt.scatter(range(len(y_test)), y_test, color='blue', label='True Values', alpha=0.5)\n",
        "plt.scatter(range(len(y_pred)), y_pred, color='yellow', label='Predicted Values', alpha=0.5)\n",
        "plt.title('True Values vs Predicted Values')\n",
        "plt.xlabel('Index')\n",
        "plt.ylabel('Class')\n",
        "plt.legend()\n",
        "\n",
        "plt.tight_layout()\n",
        "plt.show()"
      ],
      "metadata": {
        "colab": {
          "base_uri": "https://localhost:8080/",
          "height": 507
        },
        "id": "Y5tPD8pJpuVV",
        "outputId": "79521995-9166-47b3-8d91-d79807d65a00"
      },
      "execution_count": null,
      "outputs": [
        {
          "output_type": "display_data",
          "data": {
            "text/plain": [
              "<Figure size 1000x500 with 1 Axes>"
            ],
            "image/png": "[encoded data removed]"
          },
          "metadata": {}
        }
      ]
    },
    {
      "cell_type": "markdown",
      "source": [
        "#### Results"
      ],
      "metadata": {
        "id": "HXH9iUnpwVIj"
      }
    },
    {
      "cell_type": "code",
      "source": [
        "print(\"Accuracy:\", accuracy(y_test, y_pred))\n",
        "print(\"\\nClassification Report:\")\n",
        "print(classification_report_manual(y_test, y_pred))\n",
        "print(\"\\nConfusion Matrix:\")\n",
        "print(confusion_matrix_manual(y_test, y_pred))\n",
        "\n",
        "\n",
        "# plot loss history\n",
        "import matplotlib.pyplot as plt\n",
        "\n",
        "plt.plot(loss_history)\n",
        "plt.xlabel('Epochs')\n",
        "plt.ylabel('Loss')\n",
        "plt.title('Loss History')\n",
        "plt.show()"
      ],
      "metadata": {
        "colab": {
          "base_uri": "https://localhost:8080/",
          "height": 732
        },
        "id": "rh_tBEj8pstl",
        "outputId": "083e8872-8f25-493d-85e1-be387b30e5f4"
      },
      "execution_count": null,
      "outputs": [
        {
          "output_type": "stream",
          "name": "stdout",
          "text": [
            "Accuracy: 1.0\n",
            "\n",
            "Classification Report:\n",
            "tp=7 fp=0 fn=0 tn=5\n",
            "\n",
            "Accuracy: 1.0000\n",
            "Precision: 1.0000\n",
            "Recall: 1.0000\n",
            "F1-Score: 1.0000\n",
            "\n",
            "Confusion Matrix:\n",
            "tp=7 fp=0 fn=0 tn=5\n",
            "\n",
            "[[7 0]\n",
            " [0 5]]\n"
          ]
        },
        {
          "output_type": "display_data",
          "data": {
            "text/plain": [
              "<Figure size 640x480 with 1 Axes>"
            ],
            "image/png": "[encoded data removed]"
          },
          "metadata": {}
        }
      ]
    },
    {
      "cell_type": "markdown",
      "source": [
        "## Multi-class Classification"
      ],
      "metadata": {
        "id": "da0WWmiNolTO"
      }
    },
    {
      "cell_type": "markdown",
      "source": [
        "### Making Synthetic Data"
      ],
      "metadata": {
        "id": "Sur5HcoPs1ZL"
      }
    },
    {
      "cell_type": "code",
      "source": [
        "import pandas as pd\n",
        "\n",
        "import random\n",
        "\n",
        "def generate_synthetic_data(num_rows=40):\n",
        "    data = []\n",
        "\n",
        "    for _ in range(num_rows):\n",
        "        x1 = random.uniform(1, 8)\n",
        "        x2 = random.uniform(1, 8)\n",
        "        if x1 > 3 and x2 < 3:\n",
        "          label = 0\n",
        "        elif x1 < 5 and x2 > 5:\n",
        "          label = 1\n",
        "        elif x1 > 3 and x2 > 3:\n",
        "          label = 2\n",
        "        else:\n",
        "          label = 3\n",
        "        data.append([x1, x2, label])\n",
        "    return data\n",
        "\n",
        "data = generate_synthetic_data(40)\n",
        "\n",
        "columns = ['x1', 'x2', 'y']\n",
        "\n",
        "df = pd.DataFrame(data, columns=columns)\n",
        "\n",
        "df.head()"
      ],
      "metadata": {
        "colab": {
          "base_uri": "https://localhost:8080/",
          "height": 206
        },
        "id": "o6Raq_S4t2qi",
        "outputId": "bf174303-134b-4eed-a70c-931ae1c9c3dd"
      },
      "execution_count": null,
      "outputs": [
        {
          "output_type": "execute_result",
          "data": {
            "text/plain": [
              "         x1        x2  y\n",
              "0  4.617187  3.500581  2\n",
              "1  1.073840  3.783621  3\n",
              "2  7.652747  7.626213  2\n",
              "3  7.407422  2.209760  0\n",
              "4  5.589951  3.345190  2"
            ],
            "text/html": [
              "\n",
              "  <div id=\"df-9e9c6230-18c0-4faf-816f-b888057e78af\" class=\"colab-df-container\">\n",
              "    <div>\n",
              "<style scoped>\n",
              "    .dataframe tbody tr th:only-of-type {\n",
              "        vertical-align: middle;\n",
              "    }\n",
              "\n",
              "    .dataframe tbody tr th {\n",
              "        vertical-align: top;\n",
              "    }\n",
              "\n",
              "    .dataframe thead th {\n",
              "        text-align: right;\n",
              "    }\n",
              "</style>\n",
              "<table border=\"1\" class=\"dataframe\">\n",
              "  <thead>\n",
              "    <tr style=\"text-align: right;\">\n",
              "      <th></th>\n",
              "      <th>x1</th>\n",
              "      <th>x2</th>\n",
              "      <th>y</th>\n",
              "    </tr>\n",
              "  </thead>\n",
              "  <tbody>\n",
              "    <tr>\n",
              "      <th>0</th>\n",
              "      <td>4.617187</td>\n",
              "      <td>3.500581</td>\n",
              "      <td>2</td>\n",
              "    </tr>\n",
              "    <tr>\n",
              "      <th>1</th>\n",
              "      <td>1.073840</td>\n",
              "      <td>3.783621</td>\n",
              "      <td>3</td>\n",
              "    </tr>\n",
              "    <tr>\n",
              "      <th>2</th>\n",
              "      <td>7.652747</td>\n",
              "      <td>7.626213</td>\n",
              "      <td>2</td>\n",
              "    </tr>\n",
              "    <tr>\n",
              "      <th>3</th>\n",
              "      <td>7.407422</td>\n",
              "      <td>2.209760</td>\n",
              "      <td>0</td>\n",
              "    </tr>\n",
              "    <tr>\n",
              "      <th>4</th>\n",
              "      <td>5.589951</td>\n",
              "      <td>3.345190</td>\n",
              "      <td>2</td>\n",
              "    </tr>\n",
              "  </tbody>\n",
              "</table>\n",
              "</div>\n",
              "    <div class=\"colab-df-buttons\">\n",
              "\n",
              "  <div class=\"colab-df-container\">\n",
              "    <button class=\"colab-df-convert\" onclick=\"convertToInteractive('df-9e9c6230-18c0-4faf-816f-b888057e78af')\"\n",
              "            title=\"Convert this dataframe to an interactive table.\"\n",
              "            style=\"display:none;\">\n",
              "\n",
              "  <svg xmlns=\"http://www.w3.org/2000/svg\" height=\"24px\" viewBox=\"0 -960 960 960\">\n",
              "    <path d=\"M120-120v-720h720v720H120Zm60-500h600v-160H180v160Zm220 220h160v-160H400v160Zm0 220h160v-160H400v160ZM180-400h160v-160H180v160Zm440 0h160v-160H620v160ZM180-180h160v-160H180v160Zm440 0h160v-160H620v160Z\"/>\n",
              "  </svg>\n",
              "    </button>\n",
              "\n",
              "  <style>\n",
              "    .colab-df-container {\n",
              "      display:flex;\n",
              "      gap: 12px;\n",
              "    }\n",
              "\n",
              "    .colab-df-convert {\n",
              "      background-color: #E8F0FE;\n",
              "      border: none;\n",
              "      border-radius: 50%;\n",
              "      cursor: pointer;\n",
              "      display: none;\n",
              "      fill: #1967D2;\n",
              "      height: 32px;\n",
              "      padding: 0 0 0 0;\n",
              "      width: 32px;\n",
              "    }\n",
              "\n",
              "    .colab-df-convert:hover {\n",
              "      background-color: #E2EBFA;\n",
              "      box-shadow: 0px 1px 2px rgba(60, 64, 67, 0.3), 0px 1px 3px 1px rgba(60, 64, 67, 0.15);\n",
              "      fill: #174EA6;\n",
              "    }\n",
              "\n",
              "    .colab-df-buttons div {\n",
              "      margin-bottom: 4px;\n",
              "    }\n",
              "\n",
              "    [theme=dark] .colab-df-convert {\n",
              "      background-color: #3B4455;\n",
              "      fill: #D2E3FC;\n",
              "    }\n",
              "\n",
              "    [theme=dark] .colab-df-convert:hover {\n",
              "      background-color: #434B5C;\n",
              "      box-shadow: 0px 1px 3px 1px rgba(0, 0, 0, 0.15);\n",
              "      filter: drop-shadow(0px 1px 2px rgba(0, 0, 0, 0.3));\n",
              "      fill: #FFFFFF;\n",
              "    }\n",
              "  </style>\n",
              "\n",
              "    <script>\n",
              "      const buttonEl =\n",
              "        document.querySelector('#df-9e9c6230-18c0-4faf-816f-b888057e78af button.colab-df-convert');\n",
              "      buttonEl.style.display =\n",
              "        google.colab.kernel.accessAllowed ? 'block' : 'none';\n",
              "\n",
              "      async function convertToInteractive(key) {\n",
              "        const element = document.querySelector('#df-9e9c6230-18c0-4faf-816f-b888057e78af');\n",
              "        const dataTable =\n",
              "          await google.colab.kernel.invokeFunction('convertToInteractive',\n",
              "                                                    [key], {});\n",
              "        if (!dataTable) return;\n",
              "\n",
              "        const docLinkHtml = 'Like what you see? Visit the ' +\n",
              "          '<a target=\"_blank\" href=https://colab.research.google.com/notebooks/data_table.ipynb>data table notebook</a>'\n",
              "          + ' to learn more about interactive tables.';\n",
              "        element.innerHTML = '';\n",
              "        dataTable['output_type'] = 'display_data';\n",
              "        await google.colab.output.renderOutput(dataTable, element);\n",
              "        const docLink = document.createElement('div');\n",
              "        docLink.innerHTML = docLinkHtml;\n",
              "        element.appendChild(docLink);\n",
              "      }\n",
              "    </script>\n",
              "  </div>\n",
              "\n",
              "\n",
              "<div id=\"df-a8100adb-1861-42dd-b78e-a13e3f28216c\">\n",
              "  <button class=\"colab-df-quickchart\" onclick=\"quickchart('df-a8100adb-1861-42dd-b78e-a13e3f28216c')\"\n",
              "            title=\"Suggest charts\"\n",
              "            style=\"display:none;\">\n",
              "\n",
              "<svg xmlns=\"http://www.w3.org/2000/svg\" height=\"24px\"viewBox=\"0 0 24 24\"\n",
              "     width=\"24px\">\n",
              "    <g>\n",
              "        <path d=\"M19 3H5c-1.1 0-2 .9-2 2v14c0 1.1.9 2 2 2h14c1.1 0 2-.9 2-2V5c0-1.1-.9-2-2-2zM9 17H7v-7h2v7zm4 0h-2V7h2v10zm4 0h-2v-4h2v4z\"/>\n",
              "    </g>\n",
              "</svg>\n",
              "  </button>\n",
              "\n",
              "<style>\n",
              "  .colab-df-quickchart {\n",
              "      --bg-color: #E8F0FE;\n",
              "      --fill-color: #1967D2;\n",
              "      --hover-bg-color: #E2EBFA;\n",
              "      --hover-fill-color: #174EA6;\n",
              "      --disabled-fill-color: #AAA;\n",
              "      --disabled-bg-color: #DDD;\n",
              "  }\n",
              "\n",
              "  [theme=dark] .colab-df-quickchart {\n",
              "      --bg-color: #3B4455;\n",
              "      --fill-color: #D2E3FC;\n",
              "      --hover-bg-color: #434B5C;\n",
              "      --hover-fill-color: #FFFFFF;\n",
              "      --disabled-bg-color: #3B4455;\n",
              "      --disabled-fill-color: #666;\n",
              "  }\n",
              "\n",
              "  .colab-df-quickchart {\n",
              "    background-color: var(--bg-color);\n",
              "    border: none;\n",
              "    border-radius: 50%;\n",
              "    cursor: pointer;\n",
              "    display: none;\n",
              "    fill: var(--fill-color);\n",
              "    height: 32px;\n",
              "    padding: 0;\n",
              "    width: 32px;\n",
              "  }\n",
              "\n",
              "  .colab-df-quickchart:hover {\n",
              "    background-color: var(--hover-bg-color);\n",
              "    box-shadow: 0 1px 2px rgba(60, 64, 67, 0.3), 0 1px 3px 1px rgba(60, 64, 67, 0.15);\n",
              "    fill: var(--button-hover-fill-color);\n",
              "  }\n",
              "\n",
              "  .colab-df-quickchart-complete:disabled,\n",
              "  .colab-df-quickchart-complete:disabled:hover {\n",
              "    background-color: var(--disabled-bg-color);\n",
              "    fill: var(--disabled-fill-color);\n",
              "    box-shadow: none;\n",
              "  }\n",
              "\n",
              "  .colab-df-spinner {\n",
              "    border: 2px solid var(--fill-color);\n",
              "    border-color: transparent;\n",
              "    border-bottom-color: var(--fill-color);\n",
              "    animation:\n",
              "      spin 1s steps(1) infinite;\n",
              "  }\n",
              "\n",
              "  @keyframes spin {\n",
              "    0% {\n",
              "      border-color: transparent;\n",
              "      border-bottom-color: var(--fill-color);\n",
              "      border-left-color: var(--fill-color);\n",
              "    }\n",
              "    20% {\n",
              "      border-color: transparent;\n",
              "      border-left-color: var(--fill-color);\n",
              "      border-top-color: var(--fill-color);\n",
              "    }\n",
              "    30% {\n",
              "      border-color: transparent;\n",
              "      border-left-color: var(--fill-color);\n",
              "      border-top-color: var(--fill-color);\n",
              "      border-right-color: var(--fill-color);\n",
              "    }\n",
              "    40% {\n",
              "      border-color: transparent;\n",
              "      border-right-color: var(--fill-color);\n",
              "      border-top-color: var(--fill-color);\n",
              "    }\n",
              "    60% {\n",
              "      border-color: transparent;\n",
              "      border-right-color: var(--fill-color);\n",
              "    }\n",
              "    80% {\n",
              "      border-color: transparent;\n",
              "      border-right-color: var(--fill-color);\n",
              "      border-bottom-color: var(--fill-color);\n",
              "    }\n",
              "    90% {\n",
              "      border-color: transparent;\n",
              "      border-bottom-color: var(--fill-color);\n",
              "    }\n",
              "  }\n",
              "</style>\n",
              "\n",
              "  <script>\n",
              "    async function quickchart(key) {\n",
              "      const quickchartButtonEl =\n",
              "        document.querySelector('#' + key + ' button');\n",
              "      quickchartButtonEl.disabled = true;  // To prevent multiple clicks.\n",
              "      quickchartButtonEl.classList.add('colab-df-spinner');\n",
              "      try {\n",
              "        const charts = await google.colab.kernel.invokeFunction(\n",
              "            'suggestCharts', [key], {});\n",
              "      } catch (error) {\n",
              "        console.error('Error during call to suggestCharts:', error);\n",
              "      }\n",
              "      quickchartButtonEl.classList.remove('colab-df-spinner');\n",
              "      quickchartButtonEl.classList.add('colab-df-quickchart-complete');\n",
              "    }\n",
              "    (() => {\n",
              "      let quickchartButtonEl =\n",
              "        document.querySelector('#df-a8100adb-1861-42dd-b78e-a13e3f28216c button');\n",
              "      quickchartButtonEl.style.display =\n",
              "        google.colab.kernel.accessAllowed ? 'block' : 'none';\n",
              "    })();\n",
              "  </script>\n",
              "</div>\n",
              "\n",
              "    </div>\n",
              "  </div>\n"
            ],
            "application/vnd.google.colaboratory.intrinsic+json": {
              "type": "dataframe",
              "variable_name": "df",
              "summary": "{\n  \"name\": \"df\",\n  \"rows\": 40,\n  \"fields\": [\n    {\n      \"column\": \"x1\",\n      \"properties\": {\n        \"dtype\": \"number\",\n        \"std\": 1.9451880510039645,\n        \"min\": 1.0738396460260642,\n        \"max\": 7.7792576223349466,\n        \"num_unique_values\": 40,\n        \"samples\": [\n          6.541104029289225,\n          6.562210815501683,\n          5.295855556437653\n        ],\n        \"semantic_type\": \"\",\n        \"description\": \"\"\n      }\n    },\n    {\n      \"column\": \"x2\",\n      \"properties\": {\n        \"dtype\": \"number\",\n        \"std\": 2.0126088472148815,\n        \"min\": 1.0705601384641124,\n        \"max\": 7.756732978645965,\n        \"num_unique_values\": 40,\n        \"samples\": [\n          3.431685767783317,\n          4.700176305218152,\n          4.909280115792011\n        ],\n        \"semantic_type\": \"\",\n        \"description\": \"\"\n      }\n    },\n    {\n      \"column\": \"y\",\n      \"properties\": {\n        \"dtype\": \"number\",\n        \"std\": 1,\n        \"min\": 0,\n        \"max\": 3,\n        \"num_unique_values\": 4,\n        \"samples\": [\n          3,\n          1,\n          2\n        ],\n        \"semantic_type\": \"\",\n        \"description\": \"\"\n      }\n    }\n  ]\n}"
            }
          },
          "metadata": {},
          "execution_count": 20
        }
      ]
    },
    {
      "cell_type": "code",
      "source": [
        "# display count of each label\n",
        "df['y'].value_counts()"
      ],
      "metadata": {
        "colab": {
          "base_uri": "https://localhost:8080/",
          "height": 241
        },
        "id": "MY2dIpbmvH46",
        "outputId": "b2bee3c6-7c31-4dab-93d8-2729fa0a0564"
      },
      "execution_count": null,
      "outputs": [
        {
          "output_type": "execute_result",
          "data": {
            "text/plain": [
              "y\n",
              "0    14\n",
              "2    11\n",
              "1     8\n",
              "3     7\n",
              "Name: count, dtype: int64"
            ],
            "text/html": [
              "<div>\n",
              "<style scoped>\n",
              "    .dataframe tbody tr th:only-of-type {\n",
              "        vertical-align: middle;\n",
              "    }\n",
              "\n",
              "    .dataframe tbody tr th {\n",
              "        vertical-align: top;\n",
              "    }\n",
              "\n",
              "    .dataframe thead th {\n",
              "        text-align: right;\n",
              "    }\n",
              "</style>\n",
              "<table border=\"1\" class=\"dataframe\">\n",
              "  <thead>\n",
              "    <tr style=\"text-align: right;\">\n",
              "      <th></th>\n",
              "      <th>count</th>\n",
              "    </tr>\n",
              "    <tr>\n",
              "      <th>y</th>\n",
              "      <th></th>\n",
              "    </tr>\n",
              "  </thead>\n",
              "  <tbody>\n",
              "    <tr>\n",
              "      <th>0</th>\n",
              "      <td>14</td>\n",
              "    </tr>\n",
              "    <tr>\n",
              "      <th>2</th>\n",
              "      <td>11</td>\n",
              "    </tr>\n",
              "    <tr>\n",
              "      <th>1</th>\n",
              "      <td>8</td>\n",
              "    </tr>\n",
              "    <tr>\n",
              "      <th>3</th>\n",
              "      <td>7</td>\n",
              "    </tr>\n",
              "  </tbody>\n",
              "</table>\n",
              "</div><br><label><b>dtype:</b> int64</label>"
            ]
          },
          "metadata": {},
          "execution_count": 21
        }
      ]
    },
    {
      "cell_type": "markdown",
      "source": [
        "### With Inbuilt Function"
      ],
      "metadata": {
        "id": "EdZ9dl11uOn1"
      }
    },
    {
      "cell_type": "code",
      "source": [
        "from sklearn.linear_model import LogisticRegression\n",
        "from sklearn.model_selection import train_test_split\n",
        "from sklearn.metrics import accuracy_score, classification_report, confusion_matrix\n",
        "\n",
        "X = df[['x1','x2']]\n",
        "y = df['y']\n",
        "\n",
        "X_train, X_test, y_train, y_test = train_test_split(X, y, test_size=0.3, random_state=42)\n",
        "\n",
        "lr_model = LogisticRegression(max_iter=100)\n",
        "lr_model.fit(X_train, y_train)\n",
        "\n",
        "y_pred = lr_model.predict(X_test)\n",
        "\n",
        "print(\"Accuracy:\", accuracy_score(y_test, y_pred))\n",
        "print(\"\\nClassification Report:\")\n",
        "print(classification_report(y_test, y_pred))\n",
        "print(\"\\nConfusion Matrix:\")\n",
        "print(confusion_matrix(y_test, y_pred))"
      ],
      "metadata": {
        "colab": {
          "base_uri": "https://localhost:8080/"
        },
        "id": "_NaTKjICuT2l",
        "outputId": "1294a66d-6430-4fcf-9810-30b1c3761e37"
      },
      "execution_count": null,
      "outputs": [
        {
          "output_type": "stream",
          "name": "stdout",
          "text": [
            "Accuracy: 0.75\n",
            "\n",
            "Classification Report:\n",
            "              precision    recall  f1-score   support\n",
            "\n",
            "           0       0.67      1.00      0.80         4\n",
            "           1       1.00      0.50      0.67         2\n",
            "           2       0.75      0.60      0.67         5\n",
            "           3       1.00      1.00      1.00         1\n",
            "\n",
            "    accuracy                           0.75        12\n",
            "   macro avg       0.85      0.78      0.78        12\n",
            "weighted avg       0.78      0.75      0.74        12\n",
            "\n",
            "\n",
            "Confusion Matrix:\n",
            "[[4 0 0 0]\n",
            " [0 1 1 0]\n",
            " [2 0 3 0]\n",
            " [0 0 0 1]]\n"
          ]
        }
      ]
    },
    {
      "cell_type": "code",
      "source": [
        "import matplotlib.pyplot as plt\n",
        "import numpy as np\n",
        "\n",
        "fig = plt.figure(figsize=(10, 5))\n",
        "ax = fig.add_subplot(111)\n",
        "\n",
        "x_min, x_max = X_train['x1'].min() - 1, X_train['x1'].max() + 1\n",
        "y_min, y_max = X_train['x2'].min() - 1, X_train['x2'].max() + 1\n",
        "xx, yy = np.meshgrid(np.arange(x_min, x_max, 0.1),\n",
        "                     np.arange(y_min, y_max, 0.1))\n",
        "\n",
        "Z = lr_model.predict(np.c_[xx.ravel(), yy.ravel()]) # ravel -> makes a linear array\n",
        "Z = Z.reshape(xx.shape)\n",
        "\n",
        "ax.contourf(xx, yy, Z, alpha=0.8)\n",
        "ax.scatter(X_train['x1'], X_train['x2'], c=y_train, edgecolors='k', marker='o', s=100, cmap='coolwarm', label=\"Training Points\")\n",
        "ax.set_xlabel('x1')\n",
        "ax.set_ylabel('x2')\n",
        "ax.set_title('Logistic Regression Decision Boundary')\n",
        "\n",
        "plt.legend()\n",
        "plt.show()"
      ],
      "metadata": {
        "colab": {
          "base_uri": "https://localhost:8080/",
          "height": 522
        },
        "id": "6iKGQhNAvpqe",
        "outputId": "a960b6d2-110a-41bd-ea03-18a1631dd46a"
      },
      "execution_count": null,
      "outputs": [
        {
          "output_type": "stream",
          "name": "stderr",
          "text": [
            "/usr/local/lib/python3.11/dist-packages/sklearn/utils/validation.py:2739: UserWarning: X does not have valid feature names, but LogisticRegression was fitted with feature names\n",
            "  warnings.warn(\n"
          ]
        },
        {
          "output_type": "display_data",
          "data": {
            "text/plain": [
              "<Figure size 1000x500 with 1 Axes>"
            ],
            "image/png": "[encoded data removed]"
          },
          "metadata": {}
        }
      ]
    },
    {
      "cell_type": "markdown",
      "source": [
        "### Without using Inbuilt Function"
      ],
      "metadata": {
        "id": "15j5zQySuX0F"
      }
    },
    {
      "cell_type": "code",
      "source": [
        "import numpy as np\n",
        "import pandas as pd\n",
        "from sklearn.model_selection import train_test_split\n",
        "import matplotlib.pyplot as plt"
      ],
      "metadata": {
        "id": "XRLVWO7o007x"
      },
      "execution_count": null,
      "outputs": []
    },
    {
      "cell_type": "markdown",
      "source": [
        "#### Util Functions"
      ],
      "metadata": {
        "id": "BYi87QRQwCxB"
      }
    },
    {
      "cell_type": "code",
      "source": [
        "def softmax(z):\n",
        "    exp_z = np.exp(z - np.max(z, axis=1, keepdims=True))\n",
        "    return exp_z / np.sum(exp_z, axis=1, keepdims=True)\n",
        "\n",
        "def compute_loss(y, y_pred):\n",
        "    m = len(y)\n",
        "    log_likelihood = -np.log(y_pred[range(m), y])\n",
        "    loss = np.sum(log_likelihood) / m\n",
        "    return loss\n",
        "\n",
        "def gradient_descent(X, y, lr=0.01, epochs=1000, num_classes=None):\n",
        "    m, n = X.shape\n",
        "    theta = np.zeros((n, num_classes))\n",
        "    loss_history = []\n",
        "\n",
        "    for _ in range(epochs):\n",
        "        z = np.dot(X, theta)\n",
        "        y_pred = softmax(z)\n",
        "\n",
        "        y_one_hot = np.eye(num_classes)[y]\n",
        "\n",
        "        gradient = np.dot(X.T, (y_pred - y_one_hot)) / m\n",
        "\n",
        "        theta -= lr * gradient\n",
        "\n",
        "        loss = compute_loss(y, y_pred)\n",
        "        loss_history.append(loss)\n",
        "\n",
        "    return theta, loss_history\n",
        "\n",
        "def predict(X, theta):\n",
        "    y_pred = softmax(np.dot(X, theta))\n",
        "    return np.argmax(y_pred, axis=1) # maximum probability is returned"
      ],
      "metadata": {
        "id": "PZGudfCZ023B"
      },
      "execution_count": null,
      "outputs": []
    },
    {
      "cell_type": "markdown",
      "source": [
        "#### Confusion Matrix Calculation"
      ],
      "metadata": {
        "id": "lteAUcNL1XrF"
      }
    },
    {
      "cell_type": "code",
      "source": [
        "def accuracy(y_true, y_pred):\n",
        "    return np.mean(y_true == y_pred)\n",
        "\n",
        "def confusion_matrix_manual(y_true, y_pred, num_classes):\n",
        "    cm = np.zeros((num_classes, num_classes), dtype=int)\n",
        "    for true, pred in zip(y_true, y_pred):\n",
        "        cm[true, pred] += 1\n",
        "    return cm\n",
        "\n",
        "def classification_report_manual(y_true, y_pred, num_classes):\n",
        "    cm = confusion_matrix_manual(y_true, y_pred, num_classes)\n",
        "\n",
        "    # Calculate precision, recall, and f1-score for each class\n",
        "    precision = np.diag(cm) / np.sum(cm, axis=0)  # column-wise\n",
        "    recall = np.diag(cm) / np.sum(cm, axis=1)  # row-wise\n",
        "    f1_score = 2 * (precision * recall) / (precision + recall)\n",
        "\n",
        "    acc = accuracy(y_true, y_pred)\n",
        "\n",
        "    report = f\"Accuracy: {acc:.4f}\\n\"\n",
        "    for i in range(num_classes):\n",
        "        report += f\"Class {i} - Precision: {precision[i]:.4f}, Recall: {recall[i]:.4f}, F1-Score: {f1_score[i]:.4f}\\n\"\n",
        "\n",
        "    return report"
      ],
      "metadata": {
        "id": "WnlP-wyO00kx"
      },
      "execution_count": null,
      "outputs": []
    },
    {
      "cell_type": "markdown",
      "source": [
        "#### Main Function"
      ],
      "metadata": {
        "id": "k_sg7nMR1k1G"
      }
    },
    {
      "cell_type": "code",
      "source": [
        "df = pd.DataFrame(data, columns=columns)\n",
        "X = df[['x1', 'x2']]\n",
        "y = df['y'].values\n",
        "\n",
        "num_classes = len(np.unique(y))\n",
        "\n",
        "X_train, X_test, y_train, y_test = train_test_split(X, y, test_size=0.3, random_state=42)\n",
        "\n",
        "# Add bias term (X0 = 1) to features\n",
        "X_train = np.c_[np.ones(X_train.shape[0]), X_train]\n",
        "X_test = np.c_[np.ones(X_test.shape[0]), X_test]\n",
        "\n",
        "theta, loss_history = gradient_descent(X_train, y_train, lr=0.1, epochs=5000, num_classes=num_classes)\n",
        "\n",
        "y_pred = predict(X_test, theta)"
      ],
      "metadata": {
        "id": "_BLNucZvxK3Y"
      },
      "execution_count": null,
      "outputs": []
    },
    {
      "cell_type": "markdown",
      "source": [
        "#### Plotting True and Predicted values"
      ],
      "metadata": {
        "id": "ClTQTQue1mwX"
      }
    },
    {
      "cell_type": "code",
      "source": [
        "plt.figure(figsize=(10, 5))\n",
        "\n",
        "plt.scatter(range(len(y_test)), y_test, color='blue', label='True Values', alpha=0.5)\n",
        "plt.scatter(range(len(y_pred)), y_pred, color='yellow', label='Predicted Values', alpha=0.5)\n",
        "plt.title('True Values vs Predicted Values')\n",
        "plt.xlabel('Index')\n",
        "plt.ylabel('Class')\n",
        "plt.legend()\n",
        "\n",
        "plt.tight_layout()\n",
        "plt.show()"
      ],
      "metadata": {
        "colab": {
          "base_uri": "https://localhost:8080/",
          "height": 507
        },
        "id": "9jcqjo4S1Aji",
        "outputId": "842c94a3-9814-47a7-81c0-b12f05aa38e7"
      },
      "execution_count": null,
      "outputs": [
        {
          "output_type": "display_data",
          "data": {
            "text/plain": [
              "<Figure size 1000x500 with 1 Axes>"
            ],
            "image/png": "[encoded data removed]"
          },
          "metadata": {}
        }
      ]
    },
    {
      "cell_type": "markdown",
      "source": [
        "#### Results"
      ],
      "metadata": {
        "id": "dQOKPGMk1qSn"
      }
    },
    {
      "cell_type": "code",
      "source": [
        "print(\"Accuracy:\", accuracy(y_test, y_pred))\n",
        "print(\"\\nClassification Report:\")\n",
        "print(classification_report_manual(y_test, y_pred, num_classes))\n",
        "print(\"\\nConfusion Matrix:\")\n",
        "print(confusion_matrix_manual(y_test, y_pred, num_classes))\n",
        "\n",
        "# Plot loss history\n",
        "plt.plot(loss_history)\n",
        "plt.xlabel('Epochs')\n",
        "plt.ylabel('Loss')\n",
        "plt.title('Loss History')\n",
        "plt.show()"
      ],
      "metadata": {
        "colab": {
          "base_uri": "https://localhost:8080/",
          "height": 767
        },
        "id": "HNeuFEmh1B-i",
        "outputId": "1a809d07-44ea-487e-a879-3386e10069c8"
      },
      "execution_count": null,
      "outputs": [
        {
          "output_type": "stream",
          "name": "stdout",
          "text": [
            "Accuracy: 0.6666666666666666\n",
            "\n",
            "Classification Report:\n",
            "Accuracy: 0.6667\n",
            "Class 0 - Precision: 0.5714, Recall: 1.0000, F1-Score: 0.7273\n",
            "Class 1 - Precision: 1.0000, Recall: 0.5000, F1-Score: 0.6667\n",
            "Class 2 - Precision: 0.7500, Recall: 0.6000, F1-Score: 0.6667\n",
            "Class 3 - Precision: nan, Recall: 0.0000, F1-Score: nan\n",
            "\n",
            "\n",
            "Confusion Matrix:\n",
            "[[4 0 0 0]\n",
            " [0 1 1 0]\n",
            " [2 0 3 0]\n",
            " [1 0 0 0]]\n"
          ]
        },
        {
          "output_type": "stream",
          "name": "stderr",
          "text": [
            "<ipython-input-26-545920caeea4>:14: RuntimeWarning: invalid value encountered in divide\n",
            "  precision = np.diag(cm) / np.sum(cm, axis=0)  # column-wise\n"
          ]
        },
        {
          "output_type": "display_data",
          "data": {
            "text/plain": [
              "<Figure size 640x480 with 1 Axes>"
            ],
            "image/png": "[encoded data removed]"
          },
          "metadata": {}
        }
      ]
    },
    {
      "cell_type": "code",
      "source": [],
      "metadata": {
        "id": "HEdVleAp1CRi"
      },
      "execution_count": null,
      "outputs": []
    }
  ]
}
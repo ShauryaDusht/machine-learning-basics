{
  "nbformat": 4,
  "nbformat_minor": 0,
  "metadata": {
    "colab": {
      "provenance": [],
      "include_colab_link": true
    },
    "kernelspec": {
      "name": "python3",
      "display_name": "Python 3"
    },
    "language_info": {
      "name": "python"
    }
  },
  "cells": [
    {
      "cell_type": "markdown",
      "metadata": {
        "id": "view-in-github",
        "colab_type": "text"
      },
      "source": [
        "<a href=\"https://colab.research.google.com/github/ShauryaDusht/machine-learning-basics/blob/main/LAB1_ML.ipynb\" target=\"_parent\"><img src=\"https://colab.research.google.com/assets/colab-badge.svg\" alt=\"Open In Colab\"/></a>"
      ]
    },
    {
      "cell_type": "code",
      "execution_count": 1,
      "metadata": {
        "colab": {
          "base_uri": "https://localhost:8080/"
        },
        "id": "ixGOJnTWcxpa",
        "outputId": "df38c5ba-e645-41cc-e33e-00a080714613"
      },
      "outputs": [
        {
          "output_type": "stream",
          "name": "stdout",
          "text": [
            "Hello,World\n"
          ]
        }
      ],
      "source": [
        "#exercise1\n",
        "print(\"Hello,World\")"
      ]
    },
    {
      "cell_type": "code",
      "source": [
        "#exercise2\n",
        "mystring = \"hello\"\n",
        "myfloat = 10.0\n",
        "myint = 20\n",
        "\n",
        "# testing code\n",
        "if mystring == \"hello\":\n",
        "    print(\"String: %s\" % mystring)\n",
        "if isinstance(myfloat, float) and myfloat == 10.0:\n",
        "    print(\"Float: %f\" % myfloat)\n",
        "if isinstance(myint, int) and myint == 20:\n",
        "    print(\"Integer: %d\" % myint)"
      ],
      "metadata": {
        "colab": {
          "base_uri": "https://localhost:8080/"
        },
        "id": "Nt_UWqkcdLAD",
        "outputId": "f21da2e4-a554-4b85-d239-8aa40fe1c201"
      },
      "execution_count": 2,
      "outputs": [
        {
          "output_type": "stream",
          "name": "stdout",
          "text": [
            "String: hello\n",
            "Float: 10.000000\n",
            "Integer: 20\n"
          ]
        }
      ]
    },
    {
      "cell_type": "code",
      "source": [
        "#exercise3\n",
        "numbers = [1,2,3]\n",
        "strings = ['hello','world']\n",
        "names = [\"John\", \"Eric\", \"Jessica\"]\n",
        "\n",
        "# write your code here\n",
        "second_name = names[1]\n",
        "\n",
        "\n",
        "# this code should write out the filled arrays and the second name in the names list (Eric).\n",
        "print(numbers)\n",
        "print(strings)\n",
        "print(\"The second name on the names list is %s\" % second_name)"
      ],
      "metadata": {
        "colab": {
          "base_uri": "https://localhost:8080/"
        },
        "id": "uExDEHeed5Om",
        "outputId": "50302d6c-9589-4af6-e229-eec273ad9116"
      },
      "execution_count": 3,
      "outputs": [
        {
          "output_type": "stream",
          "name": "stdout",
          "text": [
            "[1, 2, 3]\n",
            "['hello', 'world']\n",
            "The second name on the names list is Eric\n"
          ]
        }
      ]
    },
    {
      "cell_type": "code",
      "source": [
        "#exercise4\n",
        "x = object()\n",
        "y = object()\n",
        "\n",
        "# TODO: change this code\n",
        "x_list = [x]*10\n",
        "y_list = [y]*10\n",
        "big_list = x_list + y_list\n",
        "\n",
        "print(\"x_list contains %d objects\" % len(x_list))\n",
        "print(\"y_list contains %d objects\" % len(y_list))\n",
        "print(\"big_list contains %d objects\" % len(big_list))\n",
        "\n",
        "# testing code\n",
        "if x_list.count(x) == 10 and y_list.count(y) == 10:\n",
        "    print(\"Almost there...\")\n",
        "if big_list.count(x) == 10 and big_list.count(y) == 10:\n",
        "    print(\"Great!\")"
      ],
      "metadata": {
        "colab": {
          "base_uri": "https://localhost:8080/"
        },
        "id": "gNFRGtAqgd8q",
        "outputId": "aee6775d-43e6-4d9e-88fe-5f8bfd9c7393"
      },
      "execution_count": 4,
      "outputs": [
        {
          "output_type": "stream",
          "name": "stdout",
          "text": [
            "x_list contains 10 objects\n",
            "y_list contains 10 objects\n",
            "big_list contains 20 objects\n",
            "Almost there...\n",
            "Great!\n"
          ]
        }
      ]
    },
    {
      "cell_type": "code",
      "source": [
        "#exercise5\n",
        "data = (\"John\", \"Doe\", 53.44)\n",
        "format_string = \"Hello %s %s. Your current balance is $%s.\"\n",
        "\n",
        "print(format_string % data)"
      ],
      "metadata": {
        "colab": {
          "base_uri": "https://localhost:8080/"
        },
        "id": "xWjzxO6Igq9p",
        "outputId": "d0910bab-f9ba-4db6-9f71-ad4492993eec"
      },
      "execution_count": 5,
      "outputs": [
        {
          "output_type": "stream",
          "name": "stdout",
          "text": [
            "Hello John Doe. Your current balance is $53.44.\n"
          ]
        }
      ]
    },
    {
      "cell_type": "code",
      "source": [
        "#exercise6\n",
        "s = \"Strings are awesome!\"\n",
        "# Length should be 20\n",
        "print(\"Length of s = %d\" % len(s))\n",
        "\n",
        "# First occurrence of \"a\" should be at index 8\n",
        "print(\"The first occurrence of the letter a = %d\" % s.index(\"a\"))\n",
        "\n",
        "# Number of a's should be 2\n",
        "print(\"a occurs %d times\" % s.count(\"a\"))\n",
        "\n",
        "# Slicing the string into bits\n",
        "print(\"The first five characters are '%s'\" % s[:5]) # Start to 5\n",
        "print(\"The next five characters are '%s'\" % s[5:10]) # 5 to 10\n",
        "print(\"The thirteenth character is '%s'\" % s[12]) # Just number 12\n",
        "print(\"The characters with odd index are '%s'\" %s[1::2]) #(0-based indexing)\n",
        "print(\"The last five characters are '%s'\" % s[-5:]) # 5th-from-last to end\n",
        "\n",
        "# Convert everything to uppercase\n",
        "print(\"String in uppercase: %s\" % s.upper())\n",
        "\n",
        "# Convert everything to lowercase\n",
        "print(\"String in lowercase: %s\" % s.lower())\n",
        "\n",
        "# Check how a string starts\n",
        "if s.startswith(\"Str\"):\n",
        "    print(\"String starts with 'Str'. Good!\")\n",
        "\n",
        "# Check how a string ends\n",
        "if s.endswith(\"ome!\"):\n",
        "    print(\"String ends with 'ome!'. Good!\")\n",
        "\n",
        "# Split the string into three separate strings,\n",
        "# each containing only a word\n",
        "print(\"Split the words of the string: %s\" % s.split(\" \"))"
      ],
      "metadata": {
        "colab": {
          "base_uri": "https://localhost:8080/"
        },
        "id": "M77PkxeriUlR",
        "outputId": "eba4a77f-0ff9-4ef2-ddcf-b13c7c69effe"
      },
      "execution_count": 6,
      "outputs": [
        {
          "output_type": "stream",
          "name": "stdout",
          "text": [
            "Length of s = 20\n",
            "The first occurrence of the letter a = 8\n",
            "a occurs 2 times\n",
            "The first five characters are 'Strin'\n",
            "The next five characters are 'gs ar'\n",
            "The thirteenth character is 'a'\n",
            "The characters with odd index are 'tig r wsm!'\n",
            "The last five characters are 'some!'\n",
            "String in uppercase: STRINGS ARE AWESOME!\n",
            "String in lowercase: strings are awesome!\n",
            "String starts with 'Str'. Good!\n",
            "String ends with 'ome!'. Good!\n",
            "Split the words of the string: ['Strings', 'are', 'awesome!']\n"
          ]
        }
      ]
    },
    {
      "cell_type": "code",
      "source": [
        "#exercise7\n",
        "# change this code\n",
        "number = 16\n",
        "second_number = 0\n",
        "first_array = [1,2,3]\n",
        "second_array = [1,2]\n",
        "\n",
        "if number > 15:\n",
        "    print(\"1\")\n",
        "\n",
        "if first_array:\n",
        "    print(\"2\")\n",
        "\n",
        "if len(second_array) == 2:\n",
        "    print(\"3\")\n",
        "\n",
        "if len(first_array) + len(second_array) == 5:\n",
        "    print(\"4\")\n",
        "\n",
        "if first_array and first_array[0] == 1:\n",
        "    print(\"5\")\n",
        "\n",
        "if not second_number:\n",
        "    print(\"6\")"
      ],
      "metadata": {
        "colab": {
          "base_uri": "https://localhost:8080/"
        },
        "id": "JCAgfeqXizUm",
        "outputId": "2f780bab-6f89-4542-f03e-43eb8dc62b79"
      },
      "execution_count": 7,
      "outputs": [
        {
          "output_type": "stream",
          "name": "stdout",
          "text": [
            "1\n",
            "2\n",
            "3\n",
            "4\n",
            "5\n",
            "6\n"
          ]
        }
      ]
    },
    {
      "cell_type": "code",
      "source": [
        "#exercise8\n",
        "numbers = [\n",
        "    951, 402, 984, 651, 360, 69, 408, 319, 601, 485, 980, 507, 725, 547, 544,\n",
        "    615, 83, 165, 141, 501, 263, 617, 865, 575, 219, 390, 984, 592, 236, 105, 942, 941,\n",
        "    386, 462, 47, 418, 907, 344, 236, 375, 823, 566, 597, 978, 328, 615, 953, 345,\n",
        "    399, 162, 758, 219, 918, 237, 412, 566, 826, 248, 866, 950, 626, 949, 687, 217,\n",
        "    815, 67, 104, 58, 512, 24, 892, 894, 767, 553, 81, 379, 843, 831, 445, 742, 717,\n",
        "    958, 609, 842, 451, 688, 753, 854, 685, 93, 857, 440, 380, 126, 721, 328, 753, 470,\n",
        "    743, 527\n",
        "]\n",
        "\n",
        "# your code goes here\n",
        "for number in numbers:\n",
        "    if number == 237:\n",
        "       break\n",
        "\n",
        "    if number %2 == 0:\n",
        "      continue\n",
        "    print(number)\n",
        "\n",
        "\n"
      ],
      "metadata": {
        "id": "A4EvigoHlHMs",
        "colab": {
          "base_uri": "https://localhost:8080/"
        },
        "outputId": "8f13af57-eacd-4a9e-a92d-21e1078928e4"
      },
      "execution_count": 8,
      "outputs": [
        {
          "output_type": "stream",
          "name": "stdout",
          "text": [
            "951\n",
            "651\n",
            "69\n",
            "319\n",
            "601\n",
            "485\n",
            "507\n",
            "725\n",
            "547\n",
            "615\n",
            "83\n",
            "165\n",
            "141\n",
            "501\n",
            "263\n",
            "617\n",
            "865\n",
            "575\n",
            "219\n",
            "105\n",
            "941\n",
            "47\n",
            "907\n",
            "375\n",
            "823\n",
            "597\n",
            "615\n",
            "953\n",
            "345\n",
            "399\n",
            "219\n"
          ]
        }
      ]
    },
    {
      "cell_type": "code",
      "source": [
        "#exercise9\n",
        "phonebook = {\n",
        "    \"John\" : 938477566,\n",
        "    \"Jack\" : 938377264,\n",
        "    \"Jill\" : 947662781\n",
        "}\n",
        "\n",
        "# your code goes here\n",
        "phonebook[\"Jake\"] = 938273443\n",
        "del phonebook[\"Jill\"]\n",
        "\n",
        "# testing code\n",
        "if \"Jake\" in phonebook:\n",
        "    print(\"Jake is listed in the phonebook.\")\n",
        "\n",
        "if \"Jill\" not in phonebook:\n",
        "    print(\"Jill is not listed in the phonebook.\")"
      ],
      "metadata": {
        "colab": {
          "base_uri": "https://localhost:8080/"
        },
        "id": "o52NOchPcxDU",
        "outputId": "5a9446f6-ca57-4607-918f-51384c4f036f"
      },
      "execution_count": 9,
      "outputs": [
        {
          "output_type": "stream",
          "name": "stdout",
          "text": [
            "Jake is listed in the phonebook.\n",
            "Jill is not listed in the phonebook.\n"
          ]
        }
      ]
    },
    {
      "cell_type": "code",
      "source": [
        "#exercise10\n",
        "import re\n",
        "\n",
        "# Your code goes here\n",
        "find_members = []\n",
        "for member in dir(re):\n",
        "    if \"find\" in member:\n",
        "        find_members.append(member)\n",
        "\n",
        "print(sorted(find_members))"
      ],
      "metadata": {
        "id": "zWGA9hDroPyq",
        "colab": {
          "base_uri": "https://localhost:8080/"
        },
        "outputId": "94244afd-7dad-44fc-9931-d025c751afed"
      },
      "execution_count": 10,
      "outputs": [
        {
          "output_type": "stream",
          "name": "stdout",
          "text": [
            "['findall', 'finditer']\n"
          ]
        }
      ]
    },
    {
      "cell_type": "code",
      "source": [
        "\n",
        "#exercise11\n",
        "# Taking the name input using raw_input()\n",
        "name = input(\"Enter your name: \")\n",
        "\n",
        "# Taking the age input using input() and converting it to integer\n",
        "age = int(input(\"Enter your age: \"))\n",
        "\n",
        "# Taking the country input using raw_input()\n",
        "country = input(\"Enter your country: \")\n",
        "\n",
        "# Displaying the formatted sentence with name, age, and country\n",
        "print(\"Hello, my name is {}, I am {} years old, and I am from {}.\".format(name, age, country))"
      ],
      "metadata": {
        "colab": {
          "base_uri": "https://localhost:8080/"
        },
        "id": "aX5lu93enrKp",
        "outputId": "d177638d-7239-4c0c-b1ea-339819d574a4"
      },
      "execution_count": 12,
      "outputs": [
        {
          "output_type": "stream",
          "name": "stdout",
          "text": [
            "Enter your name: Shaurya\n",
            "Enter your age: 21\n",
            "Enter your country: India\n",
            "Hello, my name is Shaurya, I am 21 years old, and I am from India.\n"
          ]
        }
      ]
    },
    {
      "cell_type": "code",
      "source": [
        "#exercise12\n",
        "# fill in this function\n",
        "def fib():\n",
        "    a, b = 1, 1\n",
        "    while 1:\n",
        "        yield a\n",
        "        a, b = b, a + b\n",
        "\n",
        "# testing code\n",
        "import types\n",
        "if type(fib()) == types.GeneratorType:\n",
        "    print(\"Good, The fib function is a generator.\")\n",
        "\n",
        "    counter = 0\n",
        "    for n in fib():\n",
        "        print(n)\n",
        "        counter += 1\n",
        "        if counter == 10:\n",
        "            break"
      ],
      "metadata": {
        "colab": {
          "base_uri": "https://localhost:8080/"
        },
        "id": "ArdIbukro6kf",
        "outputId": "069d8920-ac05-416c-a36f-270b23c4d162"
      },
      "execution_count": 13,
      "outputs": [
        {
          "output_type": "stream",
          "name": "stdout",
          "text": [
            "Good, The fib function is a generator.\n",
            "1\n",
            "1\n",
            "2\n",
            "3\n",
            "5\n",
            "8\n",
            "13\n",
            "21\n",
            "34\n",
            "55\n"
          ]
        }
      ]
    },
    {
      "cell_type": "code",
      "source": [
        "#exercise13\n",
        "numbers = [34.6, -203.4, 44.9, 68.3, -12.2, 44.6, 12.7]\n",
        "newlist = [int(x) for x in numbers if x > 0]\n",
        "print(newlist)"
      ],
      "metadata": {
        "colab": {
          "base_uri": "https://localhost:8080/"
        },
        "id": "5I3LkaRPo9h4",
        "outputId": "77f8ce95-7357-4156-d06e-45a116766690"
      },
      "execution_count": 14,
      "outputs": [
        {
          "output_type": "stream",
          "name": "stdout",
          "text": [
            "[34, 44, 68, 44, 12]\n"
          ]
        }
      ]
    },
    {
      "cell_type": "code",
      "source": [
        "#exercise14\n",
        "l = [2,4,7,3,14,19]\n",
        "for i in l:\n",
        "    # your code here\n",
        "    my_lambda = lambda x : (x % 2) == 1\n",
        "    print(my_lambda(i))"
      ],
      "metadata": {
        "colab": {
          "base_uri": "https://localhost:8080/"
        },
        "id": "hlxNM4dWo_k1",
        "outputId": "8ec95c0b-2bec-4175-b296-a8583b6f6a10"
      },
      "execution_count": 15,
      "outputs": [
        {
          "output_type": "stream",
          "name": "stdout",
          "text": [
            "False\n",
            "False\n",
            "True\n",
            "True\n",
            "False\n",
            "True\n"
          ]
        }
      ]
    },
    {
      "cell_type": "code",
      "source": [
        "#exercise15\n",
        "# edit the functions prototype and implementation\n",
        "def foo(a, b, c, *args):\n",
        "    return len(args)\n",
        "\n",
        "def bar(a, b, c, **kwargs):\n",
        "    return kwargs[\"magicnumber\"] == 7\n",
        "\n",
        "\n",
        "# test code\n",
        "if foo(1, 2, 3, 4) == 1:\n",
        "    print(\"Good.\")\n",
        "if foo(1, 2, 3, 4, 5) == 2:\n",
        "    print(\"Better.\")\n",
        "if bar(1, 2, 3, magicnumber=6) == False:\n",
        "    print(\"Great.\")\n",
        "if bar(1, 2, 3, magicnumber=7) == True:\n",
        "    print(\"Awesome!\")"
      ],
      "metadata": {
        "colab": {
          "base_uri": "https://localhost:8080/"
        },
        "id": "xoQXn3wBpA-G",
        "outputId": "256020f2-c2e9-4ebf-a929-503b8f8b96cd"
      },
      "execution_count": 16,
      "outputs": [
        {
          "output_type": "stream",
          "name": "stdout",
          "text": [
            "Good.\n",
            "Better.\n",
            "Great.\n",
            "Awesome!\n"
          ]
        }
      ]
    },
    {
      "cell_type": "code",
      "source": [
        "#exercise16\n",
        "import re\n",
        "def test_email(your_pattern):\n",
        "    pattern = re.compile(your_pattern)\n",
        "    emails = [\"john@example.com\", \"python-list@python.org\", \"wha.t.`1an?ug{}ly@email.com\"]\n",
        "    for email in emails:\n",
        "        if not re.match(pattern, email):\n",
        "            print(\"You failed to match %s\" % (email))\n",
        "        elif not your_pattern:\n",
        "            print(\"Forgot to enter a pattern!\")\n",
        "        else:\n",
        "            print(\"Pass\")\n",
        "# Your pattern here!\n",
        "pattern = r\"\\\"?([-a-zA-Z0-9.`?{}]+@\\w+\\.\\w+)\\\"?\"\n",
        "test_email(pattern)"
      ],
      "metadata": {
        "colab": {
          "base_uri": "https://localhost:8080/"
        },
        "id": "U1a3HgRsqC6d",
        "outputId": "954a4ff2-c39f-455b-852f-a3353d9d6583"
      },
      "execution_count": 17,
      "outputs": [
        {
          "output_type": "stream",
          "name": "stdout",
          "text": [
            "Pass\n",
            "Pass\n",
            "Pass\n"
          ]
        }
      ]
    },
    {
      "cell_type": "code",
      "source": [
        "#exercise17\n",
        "actor = {\"name\": \"John Cleese\", \"rank\": \"awesome\"}\n",
        "\n",
        "def get_last_name():\n",
        "    return actor[\"name\"].split()[1]\n",
        "\n",
        "get_last_name()\n",
        "print(\"All exceptions caught! Good job!\")\n",
        "print(\"The actor's last name is %s\" % get_last_name())"
      ],
      "metadata": {
        "colab": {
          "base_uri": "https://localhost:8080/"
        },
        "id": "zP9lM4ksqGLg",
        "outputId": "b8cb3768-d371-4dd4-ec3e-e5bd389adc57"
      },
      "execution_count": 18,
      "outputs": [
        {
          "output_type": "stream",
          "name": "stdout",
          "text": [
            "All exceptions caught! Good job!\n",
            "The actor's last name is Cleese\n"
          ]
        }
      ]
    },
    {
      "cell_type": "code",
      "source": [
        "#exercise18\n",
        "import json\n",
        "\n",
        "# fix this function, so it adds the given name\n",
        "# and salary pair to salaries_json, and return it\n",
        "def add_employee(salaries_json, name, salary):\n",
        "    salaries = json.loads(salaries_json)\n",
        "    salaries[name] = salary\n",
        "\n",
        "    return json.dumps(salaries)\n",
        "\n",
        "# test code\n",
        "salaries = '{\"Alfred\" : 300, \"Jane\" : 400 }'\n",
        "new_salaries = add_employee(salaries, \"Me\", 800)\n",
        "decoded_salaries = json.loads(new_salaries)\n",
        "print(decoded_salaries[\"Alfred\"])\n",
        "print(decoded_salaries[\"Jane\"])\n",
        "print(decoded_salaries[\"Me\"])"
      ],
      "metadata": {
        "colab": {
          "base_uri": "https://localhost:8080/"
        },
        "id": "EMxnrQiiqHwA",
        "outputId": "33f377b0-3744-4e9d-fbbc-114e5eb17f5d"
      },
      "execution_count": 19,
      "outputs": [
        {
          "output_type": "stream",
          "name": "stdout",
          "text": [
            "300\n",
            "400\n",
            "800\n"
          ]
        }
      ]
    },
    {
      "cell_type": "code",
      "source": [
        "#exercise19\n",
        "from functools import partial\n",
        "def func(u, v, w, x):\n",
        "    return u*4 + v*3 + w*2 + x\n",
        "\n",
        "p = partial(func,5,6,7)\n",
        "print(p(8))"
      ],
      "metadata": {
        "colab": {
          "base_uri": "https://localhost:8080/"
        },
        "id": "_uK__LfyqJR6",
        "outputId": "bbb564b4-913f-4b16-d38c-18eb88834351"
      },
      "execution_count": 20,
      "outputs": [
        {
          "output_type": "stream",
          "name": "stdout",
          "text": [
            "60\n"
          ]
        }
      ]
    },
    {
      "cell_type": "code",
      "source": [
        "#exercise20\n",
        "# Define the Vehicle class\n",
        "class Vehicle:\n",
        "    name = \"\"\n",
        "    kind = \"car\"\n",
        "    color = \"\"\n",
        "    value = 100.00\n",
        "    def description(self):\n",
        "        desc_str = \"%s is a %s %s worth $%.2f.\" % (self.name, self.color, self.kind, self.value)\n",
        "        return desc_str\n",
        "\n",
        "# Print a list of all attributes of the Vehicle class.\n",
        "print(dir(Vehicle))\n"
      ],
      "metadata": {
        "colab": {
          "base_uri": "https://localhost:8080/"
        },
        "id": "2FDyPD7OqXcY",
        "outputId": "097a80f9-7b42-4f3b-cc04-7caf077bfa43"
      },
      "execution_count": 21,
      "outputs": [
        {
          "output_type": "stream",
          "name": "stdout",
          "text": [
            "['__class__', '__delattr__', '__dict__', '__dir__', '__doc__', '__eq__', '__format__', '__ge__', '__getattribute__', '__getstate__', '__gt__', '__hash__', '__init__', '__init_subclass__', '__le__', '__lt__', '__module__', '__ne__', '__new__', '__reduce__', '__reduce_ex__', '__repr__', '__setattr__', '__sizeof__', '__str__', '__subclasshook__', '__weakref__', 'color', 'description', 'kind', 'name', 'value']\n"
          ]
        }
      ]
    },
    {
      "cell_type": "code",
      "source": [
        "#exercise21\n",
        "def multiplier_of(n):\n",
        "    def multiplier(number):\n",
        "        return number*n\n",
        "    return multiplier\n",
        "\n",
        "multiplywith5 = multiplier_of(5)\n",
        "print(multiplywith5(9))"
      ],
      "metadata": {
        "colab": {
          "base_uri": "https://localhost:8080/"
        },
        "id": "pRlk3x1dqYBW",
        "outputId": "5be4bd7f-ae8f-42de-c5f8-fc7103a591c3"
      },
      "execution_count": 22,
      "outputs": [
        {
          "output_type": "stream",
          "name": "stdout",
          "text": [
            "45\n"
          ]
        }
      ]
    },
    {
      "cell_type": "code",
      "source": [
        "#exercise22\n",
        "def type_check(correct_type):\n",
        "    def check(old_function):\n",
        "        def new_function(arg):\n",
        "            if (isinstance(arg, correct_type)):\n",
        "                return old_function(arg)\n",
        "            else:\n",
        "                print(\"Bad Type\")\n",
        "        return new_function\n",
        "    return check\n",
        "\n",
        "@type_check(int)\n",
        "def times2(num):\n",
        "    return num*2\n",
        "\n",
        "print(times2(2))\n",
        "times2('Not A Number')\n",
        "\n",
        "@type_check(str)\n",
        "def first_letter(word):\n",
        "    return word[0]\n",
        "\n",
        "print(first_letter('Hello World'))\n",
        "first_letter(['Not', 'A', 'String'])"
      ],
      "metadata": {
        "colab": {
          "base_uri": "https://localhost:8080/"
        },
        "id": "jvkEBi5QsLG3",
        "outputId": "49b3d333-cc7b-471a-f936-b8838adf66f9"
      },
      "execution_count": 23,
      "outputs": [
        {
          "output_type": "stream",
          "name": "stdout",
          "text": [
            "4\n",
            "Bad Type\n",
            "H\n",
            "Bad Type\n"
          ]
        }
      ]
    },
    {
      "cell_type": "code",
      "source": [
        "#exercise23\n",
        "\n",
        "from functools import reduce\n",
        "\n",
        "my_floats = [4.35, 6.09, 3.25, 9.77, 2.16, 8.88, 4.59]\n",
        "my_names = [\"olumide\", \"akinremi\", \"josiah\", \"temidayo\", \"omoseun\"]\n",
        "my_numbers = [4, 6, 9, 23, 5]\n",
        "\n",
        "map_result = list(map(lambda x: round(x ** 2, 3), my_floats))\n",
        "filter_result = list(filter(lambda name: len(name) <= 7, my_names))\n",
        "reduce_result = reduce(lambda num1, num2: num1 * num2, my_numbers)\n",
        "\n",
        "print(map_result)\n",
        "print(filter_result)\n",
        "print(reduce_result)"
      ],
      "metadata": {
        "colab": {
          "base_uri": "https://localhost:8080/"
        },
        "id": "hse6ipvusML_",
        "outputId": "4f7ec2db-4320-4cbf-c184-7b487aa8a159"
      },
      "execution_count": 24,
      "outputs": [
        {
          "output_type": "stream",
          "name": "stdout",
          "text": [
            "[18.922, 37.088, 10.562, 95.453, 4.666, 78.854, 21.068]\n",
            "['olumide', 'josiah', 'omoseun']\n",
            "24840\n"
          ]
        }
      ]
    },
    {
      "cell_type": "code",
      "source": [
        "#exercise24\n",
        "import csv\n",
        "\n",
        "# Open the input CSV file\n",
        "with open('/content/sample_data/mnist_test.csv', mode='r') as infile:\n",
        "    reader = csv.reader(infile)\n",
        "    # Open the output CSV file\n",
        "    with open('outputfile.csv', mode='w') as outfile:\n",
        "        writer = csv.writer(outfile)\n",
        "        # Write header\n",
        "        header = next(reader)\n",
        "        writer.writerow(header)\n",
        "        # Write rows where the value in the first column is greater than 50\n",
        "        for row in reader:\n",
        "            if int(row[0]) > 50:  # Assuming the first column contains numeric values\n",
        "                writer.writerow(row)"
      ],
      "metadata": {
        "id": "U6EKVFpvsNLb"
      },
      "execution_count": 29,
      "outputs": []
    }
  ]
}